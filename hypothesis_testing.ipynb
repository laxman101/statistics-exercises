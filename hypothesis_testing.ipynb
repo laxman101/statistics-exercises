{
 "cells": [
  {
   "cell_type": "markdown",
   "id": "659e4804",
   "metadata": {},
   "source": [
    "# Hypothesis Testing - Overview"
   ]
  },
  {
   "cell_type": "code",
   "execution_count": 1,
   "id": "e7b77557",
   "metadata": {},
   "outputs": [],
   "source": [
    "import numpy as np\n",
    "import seaborn as sns\n",
    "import scipy.stats as stats\n",
    "import pandas as pd\n",
    "import matplotlib.pyplot as plt\n",
    "alpha = 0.05"
   ]
  },
  {
   "cell_type": "markdown",
   "id": "d4b4bd73",
   "metadata": {},
   "source": [
    "### Do your work for this exercise in a jupyter notebook named hypothesis_testing.ipynb.\n",
    "\n",
    "### For each of the following questions, formulate a null and alternative hypothesis (be as specific as you can be), then give an example of what a true positive, true negative, type I and type II errors would look like. Note that some of the questions are intentionally phrased in a vague way. It is your job to reword these as more precise questions that could be tested.\n",
    "\n",
    "### 1. Has the network latency gone up since we switched internet service providers?\n"
   ]
  },
  {
   "cell_type": "markdown",
   "id": "903b162c",
   "metadata": {},
   "source": [
    "#### Has the network latency gone up since we switched internet service providers?\n",
    "#### Null Hypothesis: The networklatency has not gone up since we switched internet service providers.\n",
    "#### Alt Hypothesis: The networklatency has gone up since we switched internet service providers.\n",
    "#### True Pos: We correctely fail to reject that the network latency has not gone up since we switched internet service providers.\n",
    "#### True Neg: We correctely reject that that the network latency has not gone up since we switched internet service providers.\n",
    "#### Type 1: We incorrecly say that latency gone up since switching when there is.\n",
    "#### Type II: We incorrectly say that the latency didn't go up when it did."
   ]
  },
  {
   "cell_type": "markdown",
   "id": "7234b8b3",
   "metadata": {},
   "source": [
    "### 2. Is the website redesign any good?"
   ]
  },
  {
   "cell_type": "markdown",
   "id": "66087e51",
   "metadata": {},
   "source": [
    "#### Null Hypothesis: The website redesign has no good effect.\n",
    "#### Alt Hypothesis: The website redesign has a good effect.\n",
    "#### True Pos: We correctely fail to reject that the redesign has no good effect.\n",
    "#### True Neg: We correctely reject that the the redesign has no good effect.\n",
    "#### Type 1: We incorrecly say that that the redesin has a good effect when it does not.\n",
    "#### Type II: We incorrectly say that the redesign has no effect when it actually does.\n"
   ]
  },
  {
   "cell_type": "markdown",
   "id": "443a0ddd",
   "metadata": {},
   "source": [
    "### 3. Is our television ad driving more sales?"
   ]
  },
  {
   "cell_type": "markdown",
   "id": "0ed81b36",
   "metadata": {},
   "source": [
    "#### Null Hypothesis: Our television add doesn't increase more sales.\n",
    "#### Alt Hypothesis: Our television add increase more sales.\n",
    "#### True Pos: We correctely fail to reject that our television add increase more sales.\n",
    "#### True Neg: We correctely reject that our television add increase more sales.\n",
    "#### Type 1: We incorrecly say that that our television add increase more sales when it does not.\n",
    "#### Type II: We incorrectly say that our television add doesn't increase more sales when it actually does."
   ]
  },
  {
   "cell_type": "markdown",
   "id": "a205b2db",
   "metadata": {},
   "source": [
    "# Hypothesis Testing - T - Test"
   ]
  },
  {
   "cell_type": "markdown",
   "id": "42dd9baa",
   "metadata": {},
   "source": [
    "### 1. Ace Realty wants to determine whether the average time it takes to sell homes is different for its two offices. A sample of 40 sales from office #1 revealed a mean of 90 days and a standard deviation of 15 days. A sample of 50 sales from office #2 revealed a mean of 100 days and a standard deviation of 20 days. Use a .05 level of significance."
   ]
  },
  {
   "cell_type": "code",
   "execution_count": 2,
   "id": "ae5bc1e1",
   "metadata": {},
   "outputs": [],
   "source": [
    "import numpy as np\n",
    "import seaborn as sns\n",
    "import scipy.stats as stats\n",
    "import pandas as pd\n",
    "import matplotlib.pyplot as plt\n",
    "from pydataset import data\n"
   ]
  },
  {
   "cell_type": "code",
   "execution_count": 3,
   "id": "2b90b3ba",
   "metadata": {},
   "outputs": [],
   "source": [
    "Office1_mean = 90\n",
    "Office1_std_dev = 15\n",
    "n1 = 40\n",
    "\n",
    "Office2_mean = 100\n",
    "Office2_std_dev = 20\n",
    "n2 = 50\n",
    "\n",
    "alpha = .05"
   ]
  },
  {
   "cell_type": "code",
   "execution_count": 4,
   "id": "b7cb9a0b",
   "metadata": {},
   "outputs": [
    {
     "data": {
      "text/plain": [
       "<matplotlib.legend.Legend at 0x7fb6a8bad880>"
      ]
     },
     "execution_count": 4,
     "metadata": {},
     "output_type": "execute_result"
    },
    {
     "data": {
      "image/png": "[encoded data removed]",
      "text/plain": [
       "<Figure size 432x288 with 1 Axes>"
      ]
     },
     "metadata": {
      "needs_background": "light"
     },
     "output_type": "display_data"
    }
   ],
   "source": [
    "x = np.arange(50,150)\n",
    "\n",
    "y1 = stats.norm(90,15).pdf(x)\n",
    "y2 = stats.norm(100,20).pdf(x)\n",
    "\n",
    "\n",
    "plt.plot(x, y1, label = 'office 1')\n",
    "plt.plot(x, y2, label = 'office 2')\n",
    "plt.axvline(90, ls = ':')\n",
    "plt.axvline(100, ls = ':', color = 'orange')\n",
    "\n",
    "plt.legend()"
   ]
  },
  {
   "cell_type": "code",
   "execution_count": 5,
   "id": "ec3052ff",
   "metadata": {},
   "outputs": [
    {
     "data": {
      "text/plain": [
       "(-2.7091418459143854, 0.00811206270346016, 0.05)"
      ]
     },
     "execution_count": 5,
     "metadata": {},
     "output_type": "execute_result"
    }
   ],
   "source": [
    "t, p = stats.ttest_ind_from_stats(90,15,40, 100,20,50, equal_var=False)\n",
    "t,p,alpha"
   ]
  },
  {
   "cell_type": "code",
   "execution_count": 6,
   "id": "26b0c845",
   "metadata": {},
   "outputs": [
    {
     "name": "stdout",
     "output_type": "stream",
     "text": [
      "We reject the null hypothesis\n"
     ]
    }
   ],
   "source": [
    "# p-value (0.00811206270346016) and alpha value (0.05)\n",
    "\n",
    "if p <  alpha:\n",
    "    print(\"We reject the null hypothesis\")\n",
    "else: \n",
    "    print(\" We fail to reject the null hypothesis\")"
   ]
  },
  {
   "cell_type": "markdown",
   "id": "8ac01f91",
   "metadata": {},
   "source": [
    "### 2. Load the mpg dataset and use it to answer the following questions:\n",
    "\n",
    "### a. Is there a difference in fuel-efficiency in cars from 2008 vs 1999?"
   ]
  },
  {
   "cell_type": "code",
   "execution_count": 7,
   "id": "0d3adec6",
   "metadata": {},
   "outputs": [],
   "source": [
    "from pydataset import data\n",
    "mpg = data('mpg')"
   ]
  },
  {
   "cell_type": "code",
   "execution_count": 8,
   "id": "69b33987",
   "metadata": {},
   "outputs": [],
   "source": [
    "mpg['fuel_efficiency'] = stats.hmean(mpg[['cty', 'hwy']], axis =1)"
   ]
  },
  {
   "cell_type": "code",
   "execution_count": 9,
   "id": "583b978a",
   "metadata": {},
   "outputs": [
    {
     "data": {
      "text/html": [
       "<div>\n",
       "<style scoped>\n",
       "    .dataframe tbody tr th:only-of-type {\n",
       "        vertical-align: middle;\n",
       "    }\n",
       "\n",
       "    .dataframe tbody tr th {\n",
       "        vertical-align: top;\n",
       "    }\n",
       "\n",
       "    .dataframe thead th {\n",
       "        text-align: right;\n",
       "    }\n",
       "</style>\n",
       "<table border=\"1\" class=\"dataframe\">\n",
       "  <thead>\n",
       "    <tr style=\"text-align: right;\">\n",
       "      <th></th>\n",
       "      <th>manufacturer</th>\n",
       "      <th>model</th>\n",
       "      <th>displ</th>\n",
       "      <th>year</th>\n",
       "      <th>cyl</th>\n",
       "      <th>trans</th>\n",
       "      <th>drv</th>\n",
       "      <th>cty</th>\n",
       "      <th>hwy</th>\n",
       "      <th>fl</th>\n",
       "      <th>class</th>\n",
       "      <th>fuel_efficiency</th>\n",
       "    </tr>\n",
       "  </thead>\n",
       "  <tbody>\n",
       "    <tr>\n",
       "      <th>1</th>\n",
       "      <td>audi</td>\n",
       "      <td>a4</td>\n",
       "      <td>1.8</td>\n",
       "      <td>1999</td>\n",
       "      <td>4</td>\n",
       "      <td>auto(l5)</td>\n",
       "      <td>f</td>\n",
       "      <td>18</td>\n",
       "      <td>29</td>\n",
       "      <td>p</td>\n",
       "      <td>compact</td>\n",
       "      <td>22.212766</td>\n",
       "    </tr>\n",
       "    <tr>\n",
       "      <th>2</th>\n",
       "      <td>audi</td>\n",
       "      <td>a4</td>\n",
       "      <td>1.8</td>\n",
       "      <td>1999</td>\n",
       "      <td>4</td>\n",
       "      <td>manual(m5)</td>\n",
       "      <td>f</td>\n",
       "      <td>21</td>\n",
       "      <td>29</td>\n",
       "      <td>p</td>\n",
       "      <td>compact</td>\n",
       "      <td>24.360000</td>\n",
       "    </tr>\n",
       "    <tr>\n",
       "      <th>3</th>\n",
       "      <td>audi</td>\n",
       "      <td>a4</td>\n",
       "      <td>2.0</td>\n",
       "      <td>2008</td>\n",
       "      <td>4</td>\n",
       "      <td>manual(m6)</td>\n",
       "      <td>f</td>\n",
       "      <td>20</td>\n",
       "      <td>31</td>\n",
       "      <td>p</td>\n",
       "      <td>compact</td>\n",
       "      <td>24.313725</td>\n",
       "    </tr>\n",
       "    <tr>\n",
       "      <th>4</th>\n",
       "      <td>audi</td>\n",
       "      <td>a4</td>\n",
       "      <td>2.0</td>\n",
       "      <td>2008</td>\n",
       "      <td>4</td>\n",
       "      <td>auto(av)</td>\n",
       "      <td>f</td>\n",
       "      <td>21</td>\n",
       "      <td>30</td>\n",
       "      <td>p</td>\n",
       "      <td>compact</td>\n",
       "      <td>24.705882</td>\n",
       "    </tr>\n",
       "    <tr>\n",
       "      <th>5</th>\n",
       "      <td>audi</td>\n",
       "      <td>a4</td>\n",
       "      <td>2.8</td>\n",
       "      <td>1999</td>\n",
       "      <td>6</td>\n",
       "      <td>auto(l5)</td>\n",
       "      <td>f</td>\n",
       "      <td>16</td>\n",
       "      <td>26</td>\n",
       "      <td>p</td>\n",
       "      <td>compact</td>\n",
       "      <td>19.809524</td>\n",
       "    </tr>\n",
       "  </tbody>\n",
       "</table>\n",
       "</div>"
      ],
      "text/plain": [
       "  manufacturer model  displ  year  cyl       trans drv  cty  hwy fl    class  \\\n",
       "1         audi    a4    1.8  1999    4    auto(l5)   f   18   29  p  compact   \n",
       "2         audi    a4    1.8  1999    4  manual(m5)   f   21   29  p  compact   \n",
       "3         audi    a4    2.0  2008    4  manual(m6)   f   20   31  p  compact   \n",
       "4         audi    a4    2.0  2008    4    auto(av)   f   21   30  p  compact   \n",
       "5         audi    a4    2.8  1999    6    auto(l5)   f   16   26  p  compact   \n",
       "\n",
       "   fuel_efficiency  \n",
       "1        22.212766  \n",
       "2        24.360000  \n",
       "3        24.313725  \n",
       "4        24.705882  \n",
       "5        19.809524  "
      ]
     },
     "execution_count": 9,
     "metadata": {},
     "output_type": "execute_result"
    }
   ],
   "source": [
    "mpg.head()"
   ]
  },
  {
   "cell_type": "code",
   "execution_count": 10,
   "id": "451c8620",
   "metadata": {},
   "outputs": [
    {
     "name": "stdout",
     "output_type": "stream",
     "text": [
      "<class 'pandas.core.frame.DataFrame'>\n",
      "Int64Index: 234 entries, 1 to 234\n",
      "Data columns (total 12 columns):\n",
      " #   Column           Non-Null Count  Dtype  \n",
      "---  ------           --------------  -----  \n",
      " 0   manufacturer     234 non-null    object \n",
      " 1   model            234 non-null    object \n",
      " 2   displ            234 non-null    float64\n",
      " 3   year             234 non-null    int64  \n",
      " 4   cyl              234 non-null    int64  \n",
      " 5   trans            234 non-null    object \n",
      " 6   drv              234 non-null    object \n",
      " 7   cty              234 non-null    int64  \n",
      " 8   hwy              234 non-null    int64  \n",
      " 9   fl               234 non-null    object \n",
      " 10  class            234 non-null    object \n",
      " 11  fuel_efficiency  234 non-null    float64\n",
      "dtypes: float64(2), int64(4), object(6)\n",
      "memory usage: 23.8+ KB\n"
     ]
    }
   ],
   "source": [
    "mpg.info()"
   ]
  },
  {
   "cell_type": "code",
   "execution_count": 11,
   "id": "d836fa4e",
   "metadata": {},
   "outputs": [],
   "source": [
    "# drop nulls\n",
    "mpg = mpg.dropna()"
   ]
  },
  {
   "cell_type": "code",
   "execution_count": 12,
   "id": "6b14e8d9",
   "metadata": {},
   "outputs": [],
   "source": [
    "mpg[\"average_mpg\"] = (mpg.cty + mpg.hwy)/2"
   ]
  },
  {
   "cell_type": "code",
   "execution_count": 13,
   "id": "9d6b591c",
   "metadata": {},
   "outputs": [],
   "source": [
    "fe_2008 = mpg[mpg.year == 2008].average_mpg\n",
    "fe_1999 = mpg[mpg.year == 1999].average_mpg"
   ]
  },
  {
   "cell_type": "code",
   "execution_count": 14,
   "id": "85cad129",
   "metadata": {},
   "outputs": [
    {
     "data": {
      "text/plain": [
       "<AxesSubplot:>"
      ]
     },
     "execution_count": 14,
     "metadata": {},
     "output_type": "execute_result"
    },
    {
     "data": {
      "image/png": "[encoded data removed]",
      "text/plain": [
       "<Figure size 432x288 with 1 Axes>"
      ]
     },
     "metadata": {
      "needs_background": "light"
     },
     "output_type": "display_data"
    }
   ],
   "source": [
    "fe_2008.hist()"
   ]
  },
  {
   "cell_type": "code",
   "execution_count": 15,
   "id": "3d84db08",
   "metadata": {},
   "outputs": [
    {
     "data": {
      "text/plain": [
       "<AxesSubplot:>"
      ]
     },
     "execution_count": 15,
     "metadata": {},
     "output_type": "execute_result"
    },
    {
     "data": {
      "image/png": "[encoded data removed]",
      "text/plain": [
       "<Figure size 432x288 with 1 Axes>"
      ]
     },
     "metadata": {
      "needs_background": "light"
     },
     "output_type": "display_data"
    }
   ],
   "source": [
    "fe_1999.hist()"
   ]
  },
  {
   "cell_type": "markdown",
   "id": "486b9c20",
   "metadata": {},
   "source": [
    "Hypothesis:\n",
    "    \n",
    "$H_{0}$: Fuel effciency is the same in cars from 2008 and 1999.\n",
    "    \n",
    "$H_{a}$: Fuel effciency is NOT the same in cars from 2008 and 1999.\n",
    "    \n",
    "    \n",
    "Significance Level:\n",
    "    \n",
    "$\\alpha$ is already set to .05 (95% confidence level)\n",
    "\n",
    "\n",
    "Verify Assumptions:\n",
    "    \n",
    "Normal: yes\n",
    "    \n",
    "Independent: yes\n",
    "    \n",
    "Variance: No"
   ]
  },
  {
   "cell_type": "code",
   "execution_count": 16,
   "id": "4e33bf20",
   "metadata": {},
   "outputs": [
    {
     "data": {
      "text/plain": [
       "(24.097480106100797, 27.122605363984682)"
      ]
     },
     "execution_count": 16,
     "metadata": {},
     "output_type": "execute_result"
    }
   ],
   "source": [
    "fe_2008.var(), fe_1999.var()"
   ]
  },
  {
   "cell_type": "code",
   "execution_count": 17,
   "id": "d74a95e0",
   "metadata": {},
   "outputs": [
    {
     "data": {
      "text/plain": [
       "(-0.21960177245940962, 0.8263750772060638, 0.05)"
      ]
     },
     "execution_count": 17,
     "metadata": {},
     "output_type": "execute_result"
    }
   ],
   "source": [
    "t, p = stats.ttest_ind(fe_2008, fe_1999, equal_var= False)\n",
    "\n",
    "t, p, alpha"
   ]
  },
  {
   "cell_type": "markdown",
   "id": "6bb23aad",
   "metadata": {},
   "source": [
    "### Decide\n",
    "### is p-value less than alpha?"
   ]
  },
  {
   "cell_type": "code",
   "execution_count": 18,
   "id": "3693f606",
   "metadata": {},
   "outputs": [
    {
     "name": "stdout",
     "output_type": "stream",
     "text": [
      " We fail to reject the null hypothesis\n"
     ]
    }
   ],
   "source": [
    "if p <  alpha:\n",
    "    print(\"We reject the null hypothesis\")\n",
    "else: \n",
    "    print(\" We fail to reject the null hypothesis\")"
   ]
  },
  {
   "cell_type": "markdown",
   "id": "854e4483",
   "metadata": {},
   "source": [
    "### Cannot reject Null Hypothesis meaning Null Hypothesis is true So, Fuel effciency is the same in cars from 2008 and 1999."
   ]
  },
  {
   "cell_type": "markdown",
   "id": "89a9bb74",
   "metadata": {},
   "source": [
    "### 2. b. Are compact cars more fuel-efficient than the average car?"
   ]
  },
  {
   "cell_type": "code",
   "execution_count": 20,
   "id": "ddccaf3a",
   "metadata": {},
   "outputs": [],
   "source": [
    "compact_fuel_efficiency = mpg[mpg['class'] == 'compact'].fuel_efficiency\n",
    "avg_car_fuel_efficiency = mpg.fuel_efficiency.mean()"
   ]
  },
  {
   "cell_type": "code",
   "execution_count": 22,
   "id": "b10d3bb1",
   "metadata": {},
   "outputs": [
    {
     "data": {
      "text/plain": [
       "(7.512360093161354, 7.808833174403864e-10, 0.05)"
      ]
     },
     "execution_count": 22,
     "metadata": {},
     "output_type": "execute_result"
    }
   ],
   "source": [
    "t,p = stats.ttest_1samp(compact_fuel_efficiency, avg_car_fuel_efficiency)\n",
    "t, p/2, alpha"
   ]
  },
  {
   "cell_type": "code",
   "execution_count": 24,
   "id": "e56260de",
   "metadata": {},
   "outputs": [
    {
     "name": "stdout",
     "output_type": "stream",
     "text": [
      "We reject the null hypothesis\n"
     ]
    }
   ],
   "source": [
    "if (p/2 < alpha) & (t > 0):\n",
    "    print(\"We reject the null hypothesis\")\n",
    "else:\n",
    "    print(\"We fail to reject the null hypothesis\")"
   ]
  },
  {
   "cell_type": "markdown",
   "id": "c7488940",
   "metadata": {},
   "source": [
    "### 2. c. Do manual cars get better gas mileage than automatic cars?"
   ]
  },
  {
   "cell_type": "code",
   "execution_count": 25,
   "id": "364872aa",
   "metadata": {},
   "outputs": [],
   "source": [
    "manual_fuel_efficiency = mpg[mpg.trans.str.contains('manual')].fuel_efficiency\n",
    "\n",
    "\n",
    "auto_fuel_efficiency = mpg[mpg.trans.str.contains('auto')].fuel_efficiency\n"
   ]
  },
  {
   "cell_type": "code",
   "execution_count": 26,
   "id": "5ed44f53",
   "metadata": {},
   "outputs": [
    {
     "data": {
      "text/plain": [
       "(25.665633639828275, 20.428279095002054)"
      ]
     },
     "execution_count": 26,
     "metadata": {},
     "output_type": "execute_result"
    }
   ],
   "source": [
    "manual_fuel_efficiency.var(), auto_fuel_efficiency.var()"
   ]
  },
  {
   "cell_type": "code",
   "execution_count": 27,
   "id": "42f44bec",
   "metadata": {},
   "outputs": [
    {
     "data": {
      "text/plain": [
       "(4.47444321386703, 7.99035135103976e-06, 0.05)"
      ]
     },
     "execution_count": 27,
     "metadata": {},
     "output_type": "execute_result"
    }
   ],
   "source": [
    "t, p = stats.ttest_ind(manual_fuel_efficiency, auto_fuel_efficiency, equal_var = False)\n",
    "t, p/2, alpha"
   ]
  },
  {
   "cell_type": "code",
   "execution_count": 29,
   "id": "036321a4",
   "metadata": {},
   "outputs": [
    {
     "name": "stdout",
     "output_type": "stream",
     "text": [
      "We reject the null hypothesis\n"
     ]
    }
   ],
   "source": [
    "if (p/2 < alpha) & (t > 0):\n",
    "    print(\"We reject the null hypothesis\")\n",
    "else:\n",
    "    print(\"We fail to reject the null hypothesis\")"
   ]
  },
  {
   "cell_type": "markdown",
   "id": "edc939e7",
   "metadata": {},
   "source": [
    "# Hypothesis Testing - Correlation"
   ]
  },
  {
   "cell_type": "markdown",
   "id": "08daf4a1",
   "metadata": {},
   "source": [
    "### 1. Use the telco_churn data. Does tenure correlate with monthly charges? Total charges? What happens if you control for phone and internet service?"
   ]
  },
  {
   "cell_type": "code",
   "execution_count": 30,
   "id": "60e68bfb",
   "metadata": {},
   "outputs": [],
   "source": [
    "from scipy import stats\n",
    "import pandas as pd\n",
    "import numpy as np\n",
    "import seaborn as sns"
   ]
  },
  {
   "cell_type": "code",
   "execution_count": 31,
   "id": "d0885b2e",
   "metadata": {},
   "outputs": [
    {
     "data": {
      "text/html": [
       "<div>\n",
       "<style scoped>\n",
       "    .dataframe tbody tr th:only-of-type {\n",
       "        vertical-align: middle;\n",
       "    }\n",
       "\n",
       "    .dataframe tbody tr th {\n",
       "        vertical-align: top;\n",
       "    }\n",
       "\n",
       "    .dataframe thead th {\n",
       "        text-align: right;\n",
       "    }\n",
       "</style>\n",
       "<table border=\"1\" class=\"dataframe\">\n",
       "  <thead>\n",
       "    <tr style=\"text-align: right;\">\n",
       "      <th></th>\n",
       "      <th>customer_id</th>\n",
       "      <th>gender</th>\n",
       "      <th>is_senior_citizen</th>\n",
       "      <th>partner</th>\n",
       "      <th>dependents</th>\n",
       "      <th>phone_service</th>\n",
       "      <th>internet_service</th>\n",
       "      <th>contract_int</th>\n",
       "      <th>payment_type</th>\n",
       "      <th>monthly_charges</th>\n",
       "      <th>...</th>\n",
       "      <th>tenure_month</th>\n",
       "      <th>has_churned</th>\n",
       "      <th>has_phone</th>\n",
       "      <th>has_internet</th>\n",
       "      <th>has_internet_and_phone</th>\n",
       "      <th>partner_dependents</th>\n",
       "      <th>start_day</th>\n",
       "      <th>phone_type</th>\n",
       "      <th>internet_type</th>\n",
       "      <th>contract_type</th>\n",
       "    </tr>\n",
       "    <tr>\n",
       "      <th>id</th>\n",
       "      <th></th>\n",
       "      <th></th>\n",
       "      <th></th>\n",
       "      <th></th>\n",
       "      <th></th>\n",
       "      <th></th>\n",
       "      <th></th>\n",
       "      <th></th>\n",
       "      <th></th>\n",
       "      <th></th>\n",
       "      <th></th>\n",
       "      <th></th>\n",
       "      <th></th>\n",
       "      <th></th>\n",
       "      <th></th>\n",
       "      <th></th>\n",
       "      <th></th>\n",
       "      <th></th>\n",
       "      <th></th>\n",
       "      <th></th>\n",
       "      <th></th>\n",
       "    </tr>\n",
       "  </thead>\n",
       "  <tbody>\n",
       "    <tr>\n",
       "      <th>0</th>\n",
       "      <td>0002-ORFBO</td>\n",
       "      <td>Female</td>\n",
       "      <td>0</td>\n",
       "      <td>Yes</td>\n",
       "      <td>Yes</td>\n",
       "      <td>1</td>\n",
       "      <td>1</td>\n",
       "      <td>1</td>\n",
       "      <td>Mailed check</td>\n",
       "      <td>65.6</td>\n",
       "      <td>...</td>\n",
       "      <td>9.0</td>\n",
       "      <td>False</td>\n",
       "      <td>True</td>\n",
       "      <td>True</td>\n",
       "      <td>True</td>\n",
       "      <td>3</td>\n",
       "      <td>2020-05-03</td>\n",
       "      <td>One Line</td>\n",
       "      <td>DSL</td>\n",
       "      <td>1 Year</td>\n",
       "    </tr>\n",
       "    <tr>\n",
       "      <th>1</th>\n",
       "      <td>0003-MKNFE</td>\n",
       "      <td>Male</td>\n",
       "      <td>0</td>\n",
       "      <td>No</td>\n",
       "      <td>No</td>\n",
       "      <td>2</td>\n",
       "      <td>1</td>\n",
       "      <td>0</td>\n",
       "      <td>Mailed check</td>\n",
       "      <td>59.9</td>\n",
       "      <td>...</td>\n",
       "      <td>9.1</td>\n",
       "      <td>False</td>\n",
       "      <td>True</td>\n",
       "      <td>True</td>\n",
       "      <td>True</td>\n",
       "      <td>0</td>\n",
       "      <td>2020-05-03</td>\n",
       "      <td>Two or More Lines</td>\n",
       "      <td>DSL</td>\n",
       "      <td>Month-to-Month</td>\n",
       "    </tr>\n",
       "    <tr>\n",
       "      <th>2</th>\n",
       "      <td>0004-TLHLJ</td>\n",
       "      <td>Male</td>\n",
       "      <td>0</td>\n",
       "      <td>No</td>\n",
       "      <td>No</td>\n",
       "      <td>1</td>\n",
       "      <td>2</td>\n",
       "      <td>0</td>\n",
       "      <td>Electronic check</td>\n",
       "      <td>73.9</td>\n",
       "      <td>...</td>\n",
       "      <td>3.8</td>\n",
       "      <td>True</td>\n",
       "      <td>True</td>\n",
       "      <td>True</td>\n",
       "      <td>True</td>\n",
       "      <td>0</td>\n",
       "      <td>2020-11-03</td>\n",
       "      <td>One Line</td>\n",
       "      <td>Fiber Optic</td>\n",
       "      <td>Month-to-Month</td>\n",
       "    </tr>\n",
       "    <tr>\n",
       "      <th>3</th>\n",
       "      <td>0011-IGKFF</td>\n",
       "      <td>Male</td>\n",
       "      <td>1</td>\n",
       "      <td>Yes</td>\n",
       "      <td>No</td>\n",
       "      <td>1</td>\n",
       "      <td>2</td>\n",
       "      <td>0</td>\n",
       "      <td>Electronic check</td>\n",
       "      <td>98.0</td>\n",
       "      <td>...</td>\n",
       "      <td>12.6</td>\n",
       "      <td>True</td>\n",
       "      <td>True</td>\n",
       "      <td>True</td>\n",
       "      <td>True</td>\n",
       "      <td>1</td>\n",
       "      <td>2020-02-03</td>\n",
       "      <td>One Line</td>\n",
       "      <td>Fiber Optic</td>\n",
       "      <td>Month-to-Month</td>\n",
       "    </tr>\n",
       "  </tbody>\n",
       "</table>\n",
       "<p>4 rows × 22 columns</p>\n",
       "</div>"
      ],
      "text/plain": [
       "   customer_id  gender  is_senior_citizen partner dependents  phone_service  \\\n",
       "id                                                                            \n",
       "0   0002-ORFBO  Female                  0     Yes        Yes              1   \n",
       "1   0003-MKNFE    Male                  0      No         No              2   \n",
       "2   0004-TLHLJ    Male                  0      No         No              1   \n",
       "3   0011-IGKFF    Male                  1     Yes         No              1   \n",
       "\n",
       "    internet_service  contract_int      payment_type  monthly_charges  ...  \\\n",
       "id                                                                     ...   \n",
       "0                  1             1      Mailed check             65.6  ...   \n",
       "1                  1             0      Mailed check             59.9  ...   \n",
       "2                  2             0  Electronic check             73.9  ...   \n",
       "3                  2             0  Electronic check             98.0  ...   \n",
       "\n",
       "    tenure_month has_churned  has_phone  has_internet  has_internet_and_phone  \\\n",
       "id                                                                              \n",
       "0            9.0       False       True          True                    True   \n",
       "1            9.1       False       True          True                    True   \n",
       "2            3.8        True       True          True                    True   \n",
       "3           12.6        True       True          True                    True   \n",
       "\n",
       "    partner_dependents   start_day         phone_type internet_type  \\\n",
       "id                                                                    \n",
       "0                    3  2020-05-03           One Line           DSL   \n",
       "1                    0  2020-05-03  Two or More Lines           DSL   \n",
       "2                    0  2020-11-03           One Line   Fiber Optic   \n",
       "3                    1  2020-02-03           One Line   Fiber Optic   \n",
       "\n",
       "     contract_type  \n",
       "id                  \n",
       "0           1 Year  \n",
       "1   Month-to-Month  \n",
       "2   Month-to-Month  \n",
       "3   Month-to-Month  \n",
       "\n",
       "[4 rows x 22 columns]"
      ]
     },
     "execution_count": 31,
     "metadata": {},
     "output_type": "execute_result"
    }
   ],
   "source": [
    "url = \"https://gist.githubusercontent.com/ryanorsinger/3fce5a65b5fb8ab728af5192c7de857e/raw/a0422b7b73749842611742a1064e99088a47917d/clean_telco.csv\"\n",
    "df = pd.read_csv(url, index_col=\"id\")\n",
    "df.head(4)"
   ]
  },
  {
   "cell_type": "code",
   "execution_count": 32,
   "id": "8e75ce73",
   "metadata": {},
   "outputs": [
    {
     "data": {
      "text/html": [
       "<div>\n",
       "<style scoped>\n",
       "    .dataframe tbody tr th:only-of-type {\n",
       "        vertical-align: middle;\n",
       "    }\n",
       "\n",
       "    .dataframe tbody tr th {\n",
       "        vertical-align: top;\n",
       "    }\n",
       "\n",
       "    .dataframe thead th {\n",
       "        text-align: right;\n",
       "    }\n",
       "</style>\n",
       "<table border=\"1\" class=\"dataframe\">\n",
       "  <thead>\n",
       "    <tr style=\"text-align: right;\">\n",
       "      <th>id</th>\n",
       "      <th>0</th>\n",
       "      <th>1</th>\n",
       "      <th>2</th>\n",
       "      <th>3</th>\n",
       "    </tr>\n",
       "  </thead>\n",
       "  <tbody>\n",
       "    <tr>\n",
       "      <th>customer_id</th>\n",
       "      <td>0002-ORFBO</td>\n",
       "      <td>0003-MKNFE</td>\n",
       "      <td>0004-TLHLJ</td>\n",
       "      <td>0011-IGKFF</td>\n",
       "    </tr>\n",
       "    <tr>\n",
       "      <th>gender</th>\n",
       "      <td>Female</td>\n",
       "      <td>Male</td>\n",
       "      <td>Male</td>\n",
       "      <td>Male</td>\n",
       "    </tr>\n",
       "    <tr>\n",
       "      <th>is_senior_citizen</th>\n",
       "      <td>0</td>\n",
       "      <td>0</td>\n",
       "      <td>0</td>\n",
       "      <td>1</td>\n",
       "    </tr>\n",
       "    <tr>\n",
       "      <th>partner</th>\n",
       "      <td>Yes</td>\n",
       "      <td>No</td>\n",
       "      <td>No</td>\n",
       "      <td>Yes</td>\n",
       "    </tr>\n",
       "    <tr>\n",
       "      <th>dependents</th>\n",
       "      <td>Yes</td>\n",
       "      <td>No</td>\n",
       "      <td>No</td>\n",
       "      <td>No</td>\n",
       "    </tr>\n",
       "    <tr>\n",
       "      <th>phone_service</th>\n",
       "      <td>1</td>\n",
       "      <td>2</td>\n",
       "      <td>1</td>\n",
       "      <td>1</td>\n",
       "    </tr>\n",
       "    <tr>\n",
       "      <th>internet_service</th>\n",
       "      <td>1</td>\n",
       "      <td>1</td>\n",
       "      <td>2</td>\n",
       "      <td>2</td>\n",
       "    </tr>\n",
       "    <tr>\n",
       "      <th>contract_int</th>\n",
       "      <td>1</td>\n",
       "      <td>0</td>\n",
       "      <td>0</td>\n",
       "      <td>0</td>\n",
       "    </tr>\n",
       "    <tr>\n",
       "      <th>payment_type</th>\n",
       "      <td>Mailed check</td>\n",
       "      <td>Mailed check</td>\n",
       "      <td>Electronic check</td>\n",
       "      <td>Electronic check</td>\n",
       "    </tr>\n",
       "    <tr>\n",
       "      <th>monthly_charges</th>\n",
       "      <td>65.6</td>\n",
       "      <td>59.9</td>\n",
       "      <td>73.9</td>\n",
       "      <td>98.0</td>\n",
       "    </tr>\n",
       "    <tr>\n",
       "      <th>total_charges</th>\n",
       "      <td>593.3</td>\n",
       "      <td>542.4</td>\n",
       "      <td>280.85</td>\n",
       "      <td>1237.85</td>\n",
       "    </tr>\n",
       "    <tr>\n",
       "      <th>churn</th>\n",
       "      <td>No</td>\n",
       "      <td>No</td>\n",
       "      <td>Yes</td>\n",
       "      <td>Yes</td>\n",
       "    </tr>\n",
       "    <tr>\n",
       "      <th>tenure_month</th>\n",
       "      <td>9.0</td>\n",
       "      <td>9.1</td>\n",
       "      <td>3.8</td>\n",
       "      <td>12.6</td>\n",
       "    </tr>\n",
       "    <tr>\n",
       "      <th>has_churned</th>\n",
       "      <td>False</td>\n",
       "      <td>False</td>\n",
       "      <td>True</td>\n",
       "      <td>True</td>\n",
       "    </tr>\n",
       "    <tr>\n",
       "      <th>has_phone</th>\n",
       "      <td>True</td>\n",
       "      <td>True</td>\n",
       "      <td>True</td>\n",
       "      <td>True</td>\n",
       "    </tr>\n",
       "    <tr>\n",
       "      <th>has_internet</th>\n",
       "      <td>True</td>\n",
       "      <td>True</td>\n",
       "      <td>True</td>\n",
       "      <td>True</td>\n",
       "    </tr>\n",
       "    <tr>\n",
       "      <th>has_internet_and_phone</th>\n",
       "      <td>True</td>\n",
       "      <td>True</td>\n",
       "      <td>True</td>\n",
       "      <td>True</td>\n",
       "    </tr>\n",
       "    <tr>\n",
       "      <th>partner_dependents</th>\n",
       "      <td>3</td>\n",
       "      <td>0</td>\n",
       "      <td>0</td>\n",
       "      <td>1</td>\n",
       "    </tr>\n",
       "    <tr>\n",
       "      <th>start_day</th>\n",
       "      <td>2020-05-03</td>\n",
       "      <td>2020-05-03</td>\n",
       "      <td>2020-11-03</td>\n",
       "      <td>2020-02-03</td>\n",
       "    </tr>\n",
       "    <tr>\n",
       "      <th>phone_type</th>\n",
       "      <td>One Line</td>\n",
       "      <td>Two or More Lines</td>\n",
       "      <td>One Line</td>\n",
       "      <td>One Line</td>\n",
       "    </tr>\n",
       "    <tr>\n",
       "      <th>internet_type</th>\n",
       "      <td>DSL</td>\n",
       "      <td>DSL</td>\n",
       "      <td>Fiber Optic</td>\n",
       "      <td>Fiber Optic</td>\n",
       "    </tr>\n",
       "    <tr>\n",
       "      <th>contract_type</th>\n",
       "      <td>1 Year</td>\n",
       "      <td>Month-to-Month</td>\n",
       "      <td>Month-to-Month</td>\n",
       "      <td>Month-to-Month</td>\n",
       "    </tr>\n",
       "  </tbody>\n",
       "</table>\n",
       "</div>"
      ],
      "text/plain": [
       "id                                 0                  1                 2  \\\n",
       "customer_id               0002-ORFBO         0003-MKNFE        0004-TLHLJ   \n",
       "gender                        Female               Male              Male   \n",
       "is_senior_citizen                  0                  0                 0   \n",
       "partner                          Yes                 No                No   \n",
       "dependents                       Yes                 No                No   \n",
       "phone_service                      1                  2                 1   \n",
       "internet_service                   1                  1                 2   \n",
       "contract_int                       1                  0                 0   \n",
       "payment_type            Mailed check       Mailed check  Electronic check   \n",
       "monthly_charges                 65.6               59.9              73.9   \n",
       "total_charges                  593.3              542.4            280.85   \n",
       "churn                             No                 No               Yes   \n",
       "tenure_month                     9.0                9.1               3.8   \n",
       "has_churned                    False              False              True   \n",
       "has_phone                       True               True              True   \n",
       "has_internet                    True               True              True   \n",
       "has_internet_and_phone          True               True              True   \n",
       "partner_dependents                 3                  0                 0   \n",
       "start_day                 2020-05-03         2020-05-03        2020-11-03   \n",
       "phone_type                  One Line  Two or More Lines          One Line   \n",
       "internet_type                    DSL                DSL       Fiber Optic   \n",
       "contract_type                 1 Year     Month-to-Month    Month-to-Month   \n",
       "\n",
       "id                                     3  \n",
       "customer_id                   0011-IGKFF  \n",
       "gender                              Male  \n",
       "is_senior_citizen                      1  \n",
       "partner                              Yes  \n",
       "dependents                            No  \n",
       "phone_service                          1  \n",
       "internet_service                       2  \n",
       "contract_int                           0  \n",
       "payment_type            Electronic check  \n",
       "monthly_charges                     98.0  \n",
       "total_charges                    1237.85  \n",
       "churn                                Yes  \n",
       "tenure_month                        12.6  \n",
       "has_churned                         True  \n",
       "has_phone                           True  \n",
       "has_internet                        True  \n",
       "has_internet_and_phone              True  \n",
       "partner_dependents                     1  \n",
       "start_day                     2020-02-03  \n",
       "phone_type                      One Line  \n",
       "internet_type                Fiber Optic  \n",
       "contract_type             Month-to-Month  "
      ]
     },
     "execution_count": 32,
     "metadata": {},
     "output_type": "execute_result"
    }
   ],
   "source": [
    "df.head(4).T\n"
   ]
  },
  {
   "cell_type": "markdown",
   "id": "7b2736f9",
   "metadata": {},
   "source": [
    "$H_o$: tenure and monthly charges are not linearly correlated\n",
    "    \n",
    "$H_a$: tenure and monthly charges are linearly correlated\n",
    "\n"
   ]
  },
  {
   "cell_type": "markdown",
   "id": "b1f941b0",
   "metadata": {},
   "source": [
    "### Next"
   ]
  },
  {
   "cell_type": "markdown",
   "id": "c48762a1",
   "metadata": {},
   "source": [
    "$H_o$: tenure and total charges are not linearly correlated\n",
    "    \n",
    "$H_a$: tenure and total charges are linearly correlated"
   ]
  },
  {
   "cell_type": "markdown",
   "id": "7ef202ce",
   "metadata": {},
   "source": [
    "### Next"
   ]
  },
  {
   "cell_type": "markdown",
   "id": "1a5a36f1",
   "metadata": {},
   "source": [
    "Control for Phone and Internet Service"
   ]
  },
  {
   "cell_type": "code",
   "execution_count": 34,
   "id": "2c4eb684",
   "metadata": {},
   "outputs": [
    {
     "data": {
      "text/plain": [
       "0.050000000000000044"
      ]
     },
     "execution_count": 34,
     "metadata": {},
     "output_type": "execute_result"
    }
   ],
   "source": [
    "confidence_level = 0.95\n",
    "alpha = 1 - confidence_level\n",
    "alpha"
   ]
  },
  {
   "cell_type": "code",
   "execution_count": 35,
   "id": "e6ef9522",
   "metadata": {},
   "outputs": [
    {
     "name": "stdout",
     "output_type": "stream",
     "text": [
      "We reject the null hypothesis\n"
     ]
    },
    {
     "data": {
      "text/plain": [
       "(0.24602222678861455, 1.8834273042677756e-97)"
      ]
     },
     "execution_count": 35,
     "metadata": {},
     "output_type": "execute_result"
    }
   ],
   "source": [
    "# 𝐻𝑜 : tenure and monthly charges are not linearly correlated\n",
    "# 𝐻𝑎 : tenure and monthly charges are linearly correlated\n",
    "\n",
    "corr, p = stats.pearsonr(df.tenure_month, df.monthly_charges)\n",
    "\n",
    "if p < alpha:\n",
    "    print(\"We reject the null hypothesis\")\n",
    "else:\n",
    "    print(\"We fail to reject the null hypothesis\")\n",
    "    \n",
    "corr, p"
   ]
  },
  {
   "cell_type": "code",
   "execution_count": 36,
   "id": "005731ef",
   "metadata": {},
   "outputs": [
    {
     "name": "stdout",
     "output_type": "stream",
     "text": [
      "We reject the null hypothesis\n"
     ]
    },
    {
     "data": {
      "text/plain": [
       "(0.8257328669183033, 0.0)"
      ]
     },
     "execution_count": 36,
     "metadata": {},
     "output_type": "execute_result"
    }
   ],
   "source": [
    "# 𝐻𝑜 : tenure and total charges are not linearly correlated\n",
    "# 𝐻𝑎 : tenure and total charges are linearly correlated\n",
    "\n",
    "corr, p = stats.pearsonr(df.tenure_month, df.total_charges)\n",
    "\n",
    "if p < alpha:\n",
    "    print(\"We reject the null hypothesis\")\n",
    "else:\n",
    "    print(\"We fail to reject the null hypothesis\")\n",
    "    \n",
    "corr, p"
   ]
  },
  {
   "cell_type": "code",
   "execution_count": 37,
   "id": "2f4b4880",
   "metadata": {},
   "outputs": [],
   "source": [
    "def correlation_test(x, y):\n",
    "    message = \"\"\n",
    "    corr, p = stats.pearsonr(x, y)\n",
    "    \n",
    "    if p < alpha:\n",
    "        message = \"reject the null hypothesis that there is no linear correlation. Evidence supports a linear correlation.\" \n",
    "    else:\n",
    "        message = \"fail to reject the null hypothesis that there is no linear correlation. Insufficient evidence to support a linear correlation between the two values.\"\n",
    "    \n",
    "    return corr, p, message\n"
   ]
  },
  {
   "cell_type": "code",
   "execution_count": 38,
   "id": "52e0187a",
   "metadata": {},
   "outputs": [
    {
     "data": {
      "text/plain": [
       "One Line             3386\n",
       "Two or More Lines    2966\n",
       "No Phone Service      680\n",
       "Name: phone_type, dtype: int64"
      ]
     },
     "execution_count": 38,
     "metadata": {},
     "output_type": "execute_result"
    }
   ],
   "source": [
    "# We'll run a correlation test for \n",
    "df.phone_type.value_counts()"
   ]
  },
  {
   "cell_type": "code",
   "execution_count": 39,
   "id": "17316392",
   "metadata": {},
   "outputs": [
    {
     "data": {
      "text/plain": [
       "Fiber Optic            3097\n",
       "DSL                    2413\n",
       "No Internet Service    1522\n",
       "Name: internet_type, dtype: int64"
      ]
     },
     "execution_count": 39,
     "metadata": {},
     "output_type": "execute_result"
    }
   ],
   "source": [
    "df.internet_type.value_counts()"
   ]
  },
  {
   "cell_type": "code",
   "execution_count": 40,
   "id": "50b36632",
   "metadata": {},
   "outputs": [
    {
     "data": {
      "text/html": [
       "<div>\n",
       "<style scoped>\n",
       "    .dataframe tbody tr th:only-of-type {\n",
       "        vertical-align: middle;\n",
       "    }\n",
       "\n",
       "    .dataframe tbody tr th {\n",
       "        vertical-align: top;\n",
       "    }\n",
       "\n",
       "    .dataframe thead th {\n",
       "        text-align: right;\n",
       "    }\n",
       "</style>\n",
       "<table border=\"1\" class=\"dataframe\">\n",
       "  <thead>\n",
       "    <tr style=\"text-align: right;\">\n",
       "      <th>id</th>\n",
       "      <th>0</th>\n",
       "      <th>1</th>\n",
       "      <th>2</th>\n",
       "      <th>3</th>\n",
       "      <th>4</th>\n",
       "    </tr>\n",
       "  </thead>\n",
       "  <tbody>\n",
       "    <tr>\n",
       "      <th>customer_id</th>\n",
       "      <td>0002-ORFBO</td>\n",
       "      <td>0003-MKNFE</td>\n",
       "      <td>0004-TLHLJ</td>\n",
       "      <td>0011-IGKFF</td>\n",
       "      <td>0013-EXCHZ</td>\n",
       "    </tr>\n",
       "    <tr>\n",
       "      <th>gender</th>\n",
       "      <td>Female</td>\n",
       "      <td>Male</td>\n",
       "      <td>Male</td>\n",
       "      <td>Male</td>\n",
       "      <td>Female</td>\n",
       "    </tr>\n",
       "    <tr>\n",
       "      <th>is_senior_citizen</th>\n",
       "      <td>0</td>\n",
       "      <td>0</td>\n",
       "      <td>0</td>\n",
       "      <td>1</td>\n",
       "      <td>1</td>\n",
       "    </tr>\n",
       "    <tr>\n",
       "      <th>partner</th>\n",
       "      <td>Yes</td>\n",
       "      <td>No</td>\n",
       "      <td>No</td>\n",
       "      <td>Yes</td>\n",
       "      <td>Yes</td>\n",
       "    </tr>\n",
       "    <tr>\n",
       "      <th>dependents</th>\n",
       "      <td>Yes</td>\n",
       "      <td>No</td>\n",
       "      <td>No</td>\n",
       "      <td>No</td>\n",
       "      <td>No</td>\n",
       "    </tr>\n",
       "    <tr>\n",
       "      <th>phone_service</th>\n",
       "      <td>1</td>\n",
       "      <td>2</td>\n",
       "      <td>1</td>\n",
       "      <td>1</td>\n",
       "      <td>1</td>\n",
       "    </tr>\n",
       "    <tr>\n",
       "      <th>internet_service</th>\n",
       "      <td>1</td>\n",
       "      <td>1</td>\n",
       "      <td>2</td>\n",
       "      <td>2</td>\n",
       "      <td>2</td>\n",
       "    </tr>\n",
       "    <tr>\n",
       "      <th>contract_int</th>\n",
       "      <td>1</td>\n",
       "      <td>0</td>\n",
       "      <td>0</td>\n",
       "      <td>0</td>\n",
       "      <td>0</td>\n",
       "    </tr>\n",
       "    <tr>\n",
       "      <th>payment_type</th>\n",
       "      <td>Mailed check</td>\n",
       "      <td>Mailed check</td>\n",
       "      <td>Electronic check</td>\n",
       "      <td>Electronic check</td>\n",
       "      <td>Mailed check</td>\n",
       "    </tr>\n",
       "    <tr>\n",
       "      <th>monthly_charges</th>\n",
       "      <td>65.6</td>\n",
       "      <td>59.9</td>\n",
       "      <td>73.9</td>\n",
       "      <td>98.0</td>\n",
       "      <td>83.9</td>\n",
       "    </tr>\n",
       "    <tr>\n",
       "      <th>total_charges</th>\n",
       "      <td>593.3</td>\n",
       "      <td>542.4</td>\n",
       "      <td>280.85</td>\n",
       "      <td>1237.85</td>\n",
       "      <td>267.4</td>\n",
       "    </tr>\n",
       "    <tr>\n",
       "      <th>churn</th>\n",
       "      <td>No</td>\n",
       "      <td>No</td>\n",
       "      <td>Yes</td>\n",
       "      <td>Yes</td>\n",
       "      <td>Yes</td>\n",
       "    </tr>\n",
       "    <tr>\n",
       "      <th>tenure_month</th>\n",
       "      <td>9.0</td>\n",
       "      <td>9.1</td>\n",
       "      <td>3.8</td>\n",
       "      <td>12.6</td>\n",
       "      <td>3.2</td>\n",
       "    </tr>\n",
       "    <tr>\n",
       "      <th>has_churned</th>\n",
       "      <td>False</td>\n",
       "      <td>False</td>\n",
       "      <td>True</td>\n",
       "      <td>True</td>\n",
       "      <td>True</td>\n",
       "    </tr>\n",
       "    <tr>\n",
       "      <th>has_phone</th>\n",
       "      <td>True</td>\n",
       "      <td>True</td>\n",
       "      <td>True</td>\n",
       "      <td>True</td>\n",
       "      <td>True</td>\n",
       "    </tr>\n",
       "    <tr>\n",
       "      <th>has_internet</th>\n",
       "      <td>True</td>\n",
       "      <td>True</td>\n",
       "      <td>True</td>\n",
       "      <td>True</td>\n",
       "      <td>True</td>\n",
       "    </tr>\n",
       "    <tr>\n",
       "      <th>has_internet_and_phone</th>\n",
       "      <td>True</td>\n",
       "      <td>True</td>\n",
       "      <td>True</td>\n",
       "      <td>True</td>\n",
       "      <td>True</td>\n",
       "    </tr>\n",
       "    <tr>\n",
       "      <th>partner_dependents</th>\n",
       "      <td>3</td>\n",
       "      <td>0</td>\n",
       "      <td>0</td>\n",
       "      <td>1</td>\n",
       "      <td>1</td>\n",
       "    </tr>\n",
       "    <tr>\n",
       "      <th>start_day</th>\n",
       "      <td>2020-05-03</td>\n",
       "      <td>2020-05-03</td>\n",
       "      <td>2020-11-03</td>\n",
       "      <td>2020-02-03</td>\n",
       "      <td>2020-11-03</td>\n",
       "    </tr>\n",
       "    <tr>\n",
       "      <th>phone_type</th>\n",
       "      <td>One Line</td>\n",
       "      <td>Two or More Lines</td>\n",
       "      <td>One Line</td>\n",
       "      <td>One Line</td>\n",
       "      <td>One Line</td>\n",
       "    </tr>\n",
       "    <tr>\n",
       "      <th>internet_type</th>\n",
       "      <td>DSL</td>\n",
       "      <td>DSL</td>\n",
       "      <td>Fiber Optic</td>\n",
       "      <td>Fiber Optic</td>\n",
       "      <td>Fiber Optic</td>\n",
       "    </tr>\n",
       "    <tr>\n",
       "      <th>contract_type</th>\n",
       "      <td>1 Year</td>\n",
       "      <td>Month-to-Month</td>\n",
       "      <td>Month-to-Month</td>\n",
       "      <td>Month-to-Month</td>\n",
       "      <td>Month-to-Month</td>\n",
       "    </tr>\n",
       "    <tr>\n",
       "      <th>telecom_setup</th>\n",
       "      <td>DSL One Line</td>\n",
       "      <td>DSL Two or More Lines</td>\n",
       "      <td>Fiber Optic One Line</td>\n",
       "      <td>Fiber Optic One Line</td>\n",
       "      <td>Fiber Optic One Line</td>\n",
       "    </tr>\n",
       "  </tbody>\n",
       "</table>\n",
       "</div>"
      ],
      "text/plain": [
       "id                                 0                      1  \\\n",
       "customer_id               0002-ORFBO             0003-MKNFE   \n",
       "gender                        Female                   Male   \n",
       "is_senior_citizen                  0                      0   \n",
       "partner                          Yes                     No   \n",
       "dependents                       Yes                     No   \n",
       "phone_service                      1                      2   \n",
       "internet_service                   1                      1   \n",
       "contract_int                       1                      0   \n",
       "payment_type            Mailed check           Mailed check   \n",
       "monthly_charges                 65.6                   59.9   \n",
       "total_charges                  593.3                  542.4   \n",
       "churn                             No                     No   \n",
       "tenure_month                     9.0                    9.1   \n",
       "has_churned                    False                  False   \n",
       "has_phone                       True                   True   \n",
       "has_internet                    True                   True   \n",
       "has_internet_and_phone          True                   True   \n",
       "partner_dependents                 3                      0   \n",
       "start_day                 2020-05-03             2020-05-03   \n",
       "phone_type                  One Line      Two or More Lines   \n",
       "internet_type                    DSL                    DSL   \n",
       "contract_type                 1 Year         Month-to-Month   \n",
       "telecom_setup           DSL One Line  DSL Two or More Lines   \n",
       "\n",
       "id                                         2                     3  \\\n",
       "customer_id                       0004-TLHLJ            0011-IGKFF   \n",
       "gender                                  Male                  Male   \n",
       "is_senior_citizen                          0                     1   \n",
       "partner                                   No                   Yes   \n",
       "dependents                                No                    No   \n",
       "phone_service                              1                     1   \n",
       "internet_service                           2                     2   \n",
       "contract_int                               0                     0   \n",
       "payment_type                Electronic check      Electronic check   \n",
       "monthly_charges                         73.9                  98.0   \n",
       "total_charges                         280.85               1237.85   \n",
       "churn                                    Yes                   Yes   \n",
       "tenure_month                             3.8                  12.6   \n",
       "has_churned                             True                  True   \n",
       "has_phone                               True                  True   \n",
       "has_internet                            True                  True   \n",
       "has_internet_and_phone                  True                  True   \n",
       "partner_dependents                         0                     1   \n",
       "start_day                         2020-11-03            2020-02-03   \n",
       "phone_type                          One Line              One Line   \n",
       "internet_type                    Fiber Optic           Fiber Optic   \n",
       "contract_type                 Month-to-Month        Month-to-Month   \n",
       "telecom_setup           Fiber Optic One Line  Fiber Optic One Line   \n",
       "\n",
       "id                                         4  \n",
       "customer_id                       0013-EXCHZ  \n",
       "gender                                Female  \n",
       "is_senior_citizen                          1  \n",
       "partner                                  Yes  \n",
       "dependents                                No  \n",
       "phone_service                              1  \n",
       "internet_service                           2  \n",
       "contract_int                               0  \n",
       "payment_type                    Mailed check  \n",
       "monthly_charges                         83.9  \n",
       "total_charges                          267.4  \n",
       "churn                                    Yes  \n",
       "tenure_month                             3.2  \n",
       "has_churned                             True  \n",
       "has_phone                               True  \n",
       "has_internet                            True  \n",
       "has_internet_and_phone                  True  \n",
       "partner_dependents                         1  \n",
       "start_day                         2020-11-03  \n",
       "phone_type                          One Line  \n",
       "internet_type                    Fiber Optic  \n",
       "contract_type                 Month-to-Month  \n",
       "telecom_setup           Fiber Optic One Line  "
      ]
     },
     "execution_count": 40,
     "metadata": {},
     "output_type": "execute_result"
    }
   ],
   "source": [
    "# Let's combine all these different values together\n",
    "df[\"telecom_setup\"] = df.internet_type + \" \" + df.phone_type\n",
    "df.head().T"
   ]
  },
  {
   "cell_type": "code",
   "execution_count": 41,
   "id": "5692f8cd",
   "metadata": {},
   "outputs": [
    {
     "data": {
      "text/plain": [
       "Fiber Optic Two or More Lines            1937\n",
       "No Internet Service One Line             1182\n",
       "Fiber Optic One Line                     1160\n",
       "DSL One Line                             1044\n",
       "DSL Two or More Lines                     689\n",
       "DSL No Phone Service                      680\n",
       "No Internet Service Two or More Lines     340\n",
       "Name: telecom_setup, dtype: int64"
      ]
     },
     "execution_count": 41,
     "metadata": {},
     "output_type": "execute_result"
    }
   ],
   "source": [
    "df.telecom_setup.value_counts()"
   ]
  },
  {
   "cell_type": "code",
   "execution_count": 42,
   "id": "25c8aa9d",
   "metadata": {},
   "outputs": [
    {
     "data": {
      "text/plain": [
       "Index(['Fiber Optic Two or More Lines', 'No Internet Service One Line',\n",
       "       'Fiber Optic One Line', 'DSL One Line', 'DSL Two or More Lines',\n",
       "       'DSL No Phone Service', 'No Internet Service Two or More Lines'],\n",
       "      dtype='object')"
      ]
     },
     "execution_count": 42,
     "metadata": {},
     "output_type": "execute_result"
    }
   ],
   "source": [
    "options = df.telecom_setup.value_counts().index\n",
    "options"
   ]
  },
  {
   "cell_type": "code",
   "execution_count": 43,
   "id": "ebff39ad",
   "metadata": {},
   "outputs": [
    {
     "data": {
      "text/plain": [
       "'No Internet Service One Line'"
      ]
     },
     "execution_count": 43,
     "metadata": {},
     "output_type": "execute_result"
    }
   ],
   "source": [
    "options[1]"
   ]
  },
  {
   "cell_type": "code",
   "execution_count": 44,
   "id": "d8674aba",
   "metadata": {},
   "outputs": [
    {
     "name": "stdout",
     "output_type": "stream",
     "text": [
      "Correlation test for tenure vs. monthly_charges, controling for Internet/Phone service\n"
     ]
    },
    {
     "data": {
      "text/html": [
       "<div>\n",
       "<style scoped>\n",
       "    .dataframe tbody tr th:only-of-type {\n",
       "        vertical-align: middle;\n",
       "    }\n",
       "\n",
       "    .dataframe tbody tr th {\n",
       "        vertical-align: top;\n",
       "    }\n",
       "\n",
       "    .dataframe thead th {\n",
       "        text-align: right;\n",
       "    }\n",
       "</style>\n",
       "<table border=\"1\" class=\"dataframe\">\n",
       "  <thead>\n",
       "    <tr style=\"text-align: right;\">\n",
       "      <th></th>\n",
       "      <th>option</th>\n",
       "      <th>corr</th>\n",
       "      <th>p</th>\n",
       "      <th>message</th>\n",
       "    </tr>\n",
       "  </thead>\n",
       "  <tbody>\n",
       "    <tr>\n",
       "      <th>0</th>\n",
       "      <td>Fiber Optic Two or More Lines</td>\n",
       "      <td>0.573677</td>\n",
       "      <td>6.125936e-170</td>\n",
       "      <td>reject the null hypothesis that there is no linear correlation. Evidence supports a li...</td>\n",
       "    </tr>\n",
       "    <tr>\n",
       "      <th>1</th>\n",
       "      <td>No Internet Service One Line</td>\n",
       "      <td>-0.012010</td>\n",
       "      <td>6.799938e-01</td>\n",
       "      <td>fail to reject the null hypothesis that there is no linear correlation. Insufficient e...</td>\n",
       "    </tr>\n",
       "    <tr>\n",
       "      <th>2</th>\n",
       "      <td>Fiber Optic One Line</td>\n",
       "      <td>0.529938</td>\n",
       "      <td>5.607453e-85</td>\n",
       "      <td>reject the null hypothesis that there is no linear correlation. Evidence supports a li...</td>\n",
       "    </tr>\n",
       "    <tr>\n",
       "      <th>3</th>\n",
       "      <td>DSL One Line</td>\n",
       "      <td>0.561734</td>\n",
       "      <td>7.199649e-88</td>\n",
       "      <td>reject the null hypothesis that there is no linear correlation. Evidence supports a li...</td>\n",
       "    </tr>\n",
       "    <tr>\n",
       "      <th>4</th>\n",
       "      <td>DSL Two or More Lines</td>\n",
       "      <td>0.610191</td>\n",
       "      <td>1.647669e-71</td>\n",
       "      <td>reject the null hypothesis that there is no linear correlation. Evidence supports a li...</td>\n",
       "    </tr>\n",
       "    <tr>\n",
       "      <th>5</th>\n",
       "      <td>DSL No Phone Service</td>\n",
       "      <td>0.591798</td>\n",
       "      <td>1.736039e-65</td>\n",
       "      <td>reject the null hypothesis that there is no linear correlation. Evidence supports a li...</td>\n",
       "    </tr>\n",
       "    <tr>\n",
       "      <th>6</th>\n",
       "      <td>No Internet Service Two or More Lines</td>\n",
       "      <td>-0.031353</td>\n",
       "      <td>5.645227e-01</td>\n",
       "      <td>fail to reject the null hypothesis that there is no linear correlation. Insufficient e...</td>\n",
       "    </tr>\n",
       "  </tbody>\n",
       "</table>\n",
       "</div>"
      ],
      "text/plain": [
       "                                  option      corr              p  \\\n",
       "0          Fiber Optic Two or More Lines  0.573677  6.125936e-170   \n",
       "1           No Internet Service One Line -0.012010   6.799938e-01   \n",
       "2                   Fiber Optic One Line  0.529938   5.607453e-85   \n",
       "3                           DSL One Line  0.561734   7.199649e-88   \n",
       "4                  DSL Two or More Lines  0.610191   1.647669e-71   \n",
       "5                   DSL No Phone Service  0.591798   1.736039e-65   \n",
       "6  No Internet Service Two or More Lines -0.031353   5.645227e-01   \n",
       "\n",
       "                                                                                     message  \n",
       "0  reject the null hypothesis that there is no linear correlation. Evidence supports a li...  \n",
       "1  fail to reject the null hypothesis that there is no linear correlation. Insufficient e...  \n",
       "2  reject the null hypothesis that there is no linear correlation. Evidence supports a li...  \n",
       "3  reject the null hypothesis that there is no linear correlation. Evidence supports a li...  \n",
       "4  reject the null hypothesis that there is no linear correlation. Evidence supports a li...  \n",
       "5  reject the null hypothesis that there is no linear correlation. Evidence supports a li...  \n",
       "6  fail to reject the null hypothesis that there is no linear correlation. Insufficient e...  "
      ]
     },
     "execution_count": 44,
     "metadata": {},
     "output_type": "execute_result"
    }
   ],
   "source": [
    "# Run through the set of all options for tenure vs. monthly_charges\n",
    "\n",
    "output = []\n",
    "\n",
    "for option in options:\n",
    "    subset = df[df.telecom_setup == option]\n",
    "    corr, p, message = correlation_test(subset.tenure_month, subset.monthly_charges)\n",
    "    result = {\n",
    "        \"option\": option,\n",
    "        \"corr\": corr,\n",
    "        \"p\": p,\n",
    "        \"message\": message\n",
    "    }\n",
    "    output.append(result)\n",
    "\n",
    "print(\"Correlation test for tenure vs. monthly_charges, controling for Internet/Phone service\")\n",
    "pd.DataFrame(output)"
   ]
  },
  {
   "cell_type": "code",
   "execution_count": 45,
   "id": "96f7a46e",
   "metadata": {},
   "outputs": [
    {
     "data": {
      "text/plain": [
       "<AxesSubplot:xlabel='tenure_month', ylabel='monthly_charges'>"
      ]
     },
     "execution_count": 45,
     "metadata": {},
     "output_type": "execute_result"
    },
    {
     "data": {
      "image/png": "[encoded data removed]",
      "text/plain": [
       "<Figure size 432x288 with 1 Axes>"
      ]
     },
     "metadata": {
      "needs_background": "light"
     },
     "output_type": "display_data"
    }
   ],
   "source": [
    "fiber_2_lines = df[df.telecom_setup == \"Fiber Optic Two or More Lines\"]\n",
    "sns.scatterplot(x=\"tenure_month\", y=\"monthly_charges\", data=fiber_2_lines)"
   ]
  },
  {
   "cell_type": "code",
   "execution_count": 46,
   "id": "acd6544f",
   "metadata": {},
   "outputs": [
    {
     "data": {
      "text/plain": [
       "<AxesSubplot:xlabel='tenure_month', ylabel='monthly_charges'>"
      ]
     },
     "execution_count": 46,
     "metadata": {},
     "output_type": "execute_result"
    },
    {
     "data": {
      "image/png": "[encoded data removed]",
      "text/plain": [
       "<Figure size 432x288 with 1 Axes>"
      ]
     },
     "metadata": {
      "needs_background": "light"
     },
     "output_type": "display_data"
    }
   ],
   "source": [
    "no_internet_one_line = df[df.telecom_setup == \"No Internet Service One Line\"]\n",
    "sns.scatterplot(x=\"tenure_month\", y=\"monthly_charges\", data=no_internet_one_line)"
   ]
  },
  {
   "cell_type": "code",
   "execution_count": 47,
   "id": "aa135758",
   "metadata": {},
   "outputs": [
    {
     "data": {
      "text/plain": [
       "<AxesSubplot:xlabel='tenure_month', ylabel='monthly_charges'>"
      ]
     },
     "execution_count": 47,
     "metadata": {},
     "output_type": "execute_result"
    },
    {
     "data": {
      "image/png": "[encoded data removed]",
      "text/plain": [
       "<Figure size 432x288 with 1 Axes>"
      ]
     },
     "metadata": {
      "needs_background": "light"
     },
     "output_type": "display_data"
    }
   ],
   "source": [
    "no_internet_multiple_lines = df[df.telecom_setup == \"No Internet Service Two or More Lines\"]\n",
    "sns.scatterplot(x=\"tenure_month\", y=\"monthly_charges\", data=no_internet_multiple_lines)"
   ]
  },
  {
   "cell_type": "code",
   "execution_count": 48,
   "id": "2b7984b7",
   "metadata": {},
   "outputs": [
    {
     "name": "stdout",
     "output_type": "stream",
     "text": [
      "Correlation test for tenure vs. total_charges, controling for Internet/Phone service\n"
     ]
    },
    {
     "data": {
      "text/html": [
       "<div>\n",
       "<style scoped>\n",
       "    .dataframe tbody tr th:only-of-type {\n",
       "        vertical-align: middle;\n",
       "    }\n",
       "\n",
       "    .dataframe tbody tr th {\n",
       "        vertical-align: top;\n",
       "    }\n",
       "\n",
       "    .dataframe thead th {\n",
       "        text-align: right;\n",
       "    }\n",
       "</style>\n",
       "<table border=\"1\" class=\"dataframe\">\n",
       "  <thead>\n",
       "    <tr style=\"text-align: right;\">\n",
       "      <th></th>\n",
       "      <th>option</th>\n",
       "      <th>corr</th>\n",
       "      <th>p</th>\n",
       "      <th>message</th>\n",
       "    </tr>\n",
       "  </thead>\n",
       "  <tbody>\n",
       "    <tr>\n",
       "      <th>0</th>\n",
       "      <td>Fiber Optic Two or More Lines</td>\n",
       "      <td>0.983949</td>\n",
       "      <td>0.0</td>\n",
       "      <td>reject the null hypothesis that there is no linear correlation. Evidence supports a li...</td>\n",
       "    </tr>\n",
       "    <tr>\n",
       "      <th>1</th>\n",
       "      <td>No Internet Service One Line</td>\n",
       "      <td>0.999276</td>\n",
       "      <td>0.0</td>\n",
       "      <td>reject the null hypothesis that there is no linear correlation. Evidence supports a li...</td>\n",
       "    </tr>\n",
       "    <tr>\n",
       "      <th>2</th>\n",
       "      <td>Fiber Optic One Line</td>\n",
       "      <td>0.987473</td>\n",
       "      <td>0.0</td>\n",
       "      <td>reject the null hypothesis that there is no linear correlation. Evidence supports a li...</td>\n",
       "    </tr>\n",
       "    <tr>\n",
       "      <th>3</th>\n",
       "      <td>DSL One Line</td>\n",
       "      <td>0.974246</td>\n",
       "      <td>0.0</td>\n",
       "      <td>reject the null hypothesis that there is no linear correlation. Evidence supports a li...</td>\n",
       "    </tr>\n",
       "    <tr>\n",
       "      <th>4</th>\n",
       "      <td>DSL Two or More Lines</td>\n",
       "      <td>0.967037</td>\n",
       "      <td>0.0</td>\n",
       "      <td>reject the null hypothesis that there is no linear correlation. Evidence supports a li...</td>\n",
       "    </tr>\n",
       "    <tr>\n",
       "      <th>5</th>\n",
       "      <td>DSL No Phone Service</td>\n",
       "      <td>0.954261</td>\n",
       "      <td>0.0</td>\n",
       "      <td>reject the null hypothesis that there is no linear correlation. Evidence supports a li...</td>\n",
       "    </tr>\n",
       "    <tr>\n",
       "      <th>6</th>\n",
       "      <td>No Internet Service Two or More Lines</td>\n",
       "      <td>0.998031</td>\n",
       "      <td>0.0</td>\n",
       "      <td>reject the null hypothesis that there is no linear correlation. Evidence supports a li...</td>\n",
       "    </tr>\n",
       "  </tbody>\n",
       "</table>\n",
       "</div>"
      ],
      "text/plain": [
       "                                  option      corr    p  \\\n",
       "0          Fiber Optic Two or More Lines  0.983949  0.0   \n",
       "1           No Internet Service One Line  0.999276  0.0   \n",
       "2                   Fiber Optic One Line  0.987473  0.0   \n",
       "3                           DSL One Line  0.974246  0.0   \n",
       "4                  DSL Two or More Lines  0.967037  0.0   \n",
       "5                   DSL No Phone Service  0.954261  0.0   \n",
       "6  No Internet Service Two or More Lines  0.998031  0.0   \n",
       "\n",
       "                                                                                     message  \n",
       "0  reject the null hypothesis that there is no linear correlation. Evidence supports a li...  \n",
       "1  reject the null hypothesis that there is no linear correlation. Evidence supports a li...  \n",
       "2  reject the null hypothesis that there is no linear correlation. Evidence supports a li...  \n",
       "3  reject the null hypothesis that there is no linear correlation. Evidence supports a li...  \n",
       "4  reject the null hypothesis that there is no linear correlation. Evidence supports a li...  \n",
       "5  reject the null hypothesis that there is no linear correlation. Evidence supports a li...  \n",
       "6  reject the null hypothesis that there is no linear correlation. Evidence supports a li...  "
      ]
     },
     "execution_count": 48,
     "metadata": {},
     "output_type": "execute_result"
    }
   ],
   "source": [
    "# Run through the set of all options for tenure vs. total_charges\n",
    "\n",
    "output = []\n",
    "\n",
    "for option in options:\n",
    "    subset = df[df.telecom_setup == option]\n",
    "    corr, p, message = correlation_test(subset.tenure_month, subset.total_charges)\n",
    "    result = {\n",
    "        \"option\": option,\n",
    "        \"corr\": corr,\n",
    "        \"p\": p,\n",
    "        \"message\": message\n",
    "    }\n",
    "    output.append(result)\n",
    "\n",
    "print(\"Correlation test for tenure vs. total_charges, controling for Internet/Phone service\") \n",
    "pd.DataFrame(output)\n"
   ]
  },
  {
   "cell_type": "markdown",
   "id": "7e144377",
   "metadata": {},
   "source": [
    "### 3. Use the sleepstudy data. Is there a relationship between days and reaction time?"
   ]
  },
  {
   "cell_type": "code",
   "execution_count": 50,
   "id": "090f9228",
   "metadata": {},
   "outputs": [
    {
     "data": {
      "text/html": [
       "<div>\n",
       "<style scoped>\n",
       "    .dataframe tbody tr th:only-of-type {\n",
       "        vertical-align: middle;\n",
       "    }\n",
       "\n",
       "    .dataframe tbody tr th {\n",
       "        vertical-align: top;\n",
       "    }\n",
       "\n",
       "    .dataframe thead th {\n",
       "        text-align: right;\n",
       "    }\n",
       "</style>\n",
       "<table border=\"1\" class=\"dataframe\">\n",
       "  <thead>\n",
       "    <tr style=\"text-align: right;\">\n",
       "      <th></th>\n",
       "      <th>Reaction</th>\n",
       "      <th>Days</th>\n",
       "      <th>Subject</th>\n",
       "    </tr>\n",
       "  </thead>\n",
       "  <tbody>\n",
       "    <tr>\n",
       "      <th>1</th>\n",
       "      <td>249.5600</td>\n",
       "      <td>0</td>\n",
       "      <td>308</td>\n",
       "    </tr>\n",
       "    <tr>\n",
       "      <th>2</th>\n",
       "      <td>258.7047</td>\n",
       "      <td>1</td>\n",
       "      <td>308</td>\n",
       "    </tr>\n",
       "    <tr>\n",
       "      <th>3</th>\n",
       "      <td>250.8006</td>\n",
       "      <td>2</td>\n",
       "      <td>308</td>\n",
       "    </tr>\n",
       "    <tr>\n",
       "      <th>4</th>\n",
       "      <td>321.4398</td>\n",
       "      <td>3</td>\n",
       "      <td>308</td>\n",
       "    </tr>\n",
       "    <tr>\n",
       "      <th>5</th>\n",
       "      <td>356.8519</td>\n",
       "      <td>4</td>\n",
       "      <td>308</td>\n",
       "    </tr>\n",
       "  </tbody>\n",
       "</table>\n",
       "</div>"
      ],
      "text/plain": [
       "   Reaction  Days  Subject\n",
       "1  249.5600     0      308\n",
       "2  258.7047     1      308\n",
       "3  250.8006     2      308\n",
       "4  321.4398     3      308\n",
       "5  356.8519     4      308"
      ]
     },
     "execution_count": 50,
     "metadata": {},
     "output_type": "execute_result"
    }
   ],
   "source": [
    "\n",
    "from pydataset import data\n",
    "df = data(\"sleepstudy\")\n",
    "df.head()"
   ]
  },
  {
   "cell_type": "markdown",
   "id": "5324380c",
   "metadata": {},
   "source": [
    "$H_o$: There is no linear correlation between days and reaction time\n",
    "\n",
    "$H_a$: There is a linear correlation between days and reaction time"
   ]
  },
  {
   "cell_type": "code",
   "execution_count": 51,
   "id": "063411e0",
   "metadata": {},
   "outputs": [
    {
     "name": "stdout",
     "output_type": "stream",
     "text": [
      "We reject the null hypothesis\n"
     ]
    },
    {
     "data": {
      "text/plain": [
       "(0.5352302262650253, 9.894096322214812e-15)"
      ]
     },
     "execution_count": 51,
     "metadata": {},
     "output_type": "execute_result"
    }
   ],
   "source": [
    "corr, p = stats.pearsonr(df.Days, df.Reaction)\n",
    "\n",
    "if p < alpha:\n",
    "    print(\"We reject the null hypothesis\")\n",
    "else:\n",
    "    print(\"We fail to reject the null hypothesis\")\n",
    "\n",
    "corr, p\n"
   ]
  },
  {
   "cell_type": "markdown",
   "id": "87d257cf",
   "metadata": {},
   "source": [
    "# Hypothesis Testing - Chi Square"
   ]
  },
  {
   "cell_type": "code",
   "execution_count": 56,
   "id": "5aa241fc",
   "metadata": {},
   "outputs": [],
   "source": [
    "# imports\n",
    "import numpy as np\n",
    "import pandas as pd\n",
    "import scipy.stats as stats\n",
    "from pydataset import data\n"
   ]
  },
  {
   "cell_type": "markdown",
   "id": "ea98eb0e",
   "metadata": {},
   "source": [
    "### 1. Use the following contingency table to help answer the question of whether using a macbook and being a codeup student are independent of each other.\n",
    "\n",
    "### \t                                Codeup Student\tNot Codeup Student\n",
    "\n",
    "### Uses a Macbook\t                   49\t                      20\n",
    "\n",
    "### Doesn't Use A Macbook         1                          30\n"
   ]
  },
  {
   "cell_type": "code",
   "execution_count": 53,
   "id": "a68e39a6",
   "metadata": {},
   "outputs": [],
   "source": [
    "# Set the signifance level\n",
    "conf_interval = 0.95\n",
    "alpha = 1 - conf_interval"
   ]
  },
  {
   "cell_type": "code",
   "execution_count": 54,
   "id": "888ff1be",
   "metadata": {},
   "outputs": [],
   "source": [
    "# create a dataframe:\n",
    "\n",
    "contingency = pd.DataFrame({'codeup_student': [49,1], 'not_codeup': [20,30]}, index=['uses_macbook', 'not_macbook'])"
   ]
  },
  {
   "cell_type": "code",
   "execution_count": 55,
   "id": "614fec3b",
   "metadata": {},
   "outputs": [
    {
     "data": {
      "text/html": [
       "<div>\n",
       "<style scoped>\n",
       "    .dataframe tbody tr th:only-of-type {\n",
       "        vertical-align: middle;\n",
       "    }\n",
       "\n",
       "    .dataframe tbody tr th {\n",
       "        vertical-align: top;\n",
       "    }\n",
       "\n",
       "    .dataframe thead th {\n",
       "        text-align: right;\n",
       "    }\n",
       "</style>\n",
       "<table border=\"1\" class=\"dataframe\">\n",
       "  <thead>\n",
       "    <tr style=\"text-align: right;\">\n",
       "      <th></th>\n",
       "      <th>codeup_student</th>\n",
       "      <th>not_codeup</th>\n",
       "    </tr>\n",
       "  </thead>\n",
       "  <tbody>\n",
       "    <tr>\n",
       "      <th>uses_macbook</th>\n",
       "      <td>49</td>\n",
       "      <td>20</td>\n",
       "    </tr>\n",
       "    <tr>\n",
       "      <th>not_macbook</th>\n",
       "      <td>1</td>\n",
       "      <td>30</td>\n",
       "    </tr>\n",
       "  </tbody>\n",
       "</table>\n",
       "</div>"
      ],
      "text/plain": [
       "              codeup_student  not_codeup\n",
       "uses_macbook              49          20\n",
       "not_macbook                1          30"
      ]
     },
     "execution_count": 55,
     "metadata": {},
     "output_type": "execute_result"
    }
   ],
   "source": [
    "contingency"
   ]
  },
  {
   "cell_type": "markdown",
   "id": "2172110a",
   "metadata": {},
   "source": [
    "### H0: Macbook Usage is independent of being a Codeup Student\n",
    "### Ha: Macbook Usage is not independent of being a Codeup Student"
   ]
  },
  {
   "cell_type": "code",
   "execution_count": null,
   "id": "8e391b1e",
   "metadata": {},
   "outputs": [],
   "source": [
    "# make our computation"
   ]
  },
  {
   "cell_type": "code",
   "execution_count": 57,
   "id": "26148632",
   "metadata": {},
   "outputs": [
    {
     "name": "stdout",
     "output_type": "stream",
     "text": [
      "Observed\n",
      ":\n",
      "[[49 20]\n",
      " [ 1 30]]\n",
      "------------------------\n",
      "Expected: \n",
      "\n",
      "[[34.5 34.5]\n",
      " [15.5 15.5]]\n",
      "------------------------\n",
      "\n",
      "chi2 = 36.65\n",
      "p value: 0.0000\n",
      "We can reject the null hypothesis\n"
     ]
    }
   ],
   "source": [
    "chi2, p, degf, expected = stats.chi2_contingency(contingency)\n",
    "\n",
    "print('Observed\\n:')\n",
    "print(contingency.values)\n",
    "print('------------------------\\nExpected: \\n')\n",
    "print(expected)\n",
    "print('------------------------\\n')\n",
    "print(f'chi2 = {chi2:.2f}')\n",
    "print(f'p value: {p:.4f}')\n",
    "if p < alpha:\n",
    "      print('We can reject the null hypothesis')\n"
   ]
  },
  {
   "cell_type": "markdown",
   "id": "b124c908",
   "metadata": {},
   "source": [
    "### 2. Choose another 2 categorical variables from the mpg dataset and perform a chi2 contingency table test with them. Be sure to state your null and alternative hypotheses."
   ]
  },
  {
   "cell_type": "code",
   "execution_count": null,
   "id": "18e4bc47",
   "metadata": {},
   "outputs": [],
   "source": [
    "# load up our mpg data"
   ]
  },
  {
   "cell_type": "code",
   "execution_count": 58,
   "id": "f9fef616",
   "metadata": {},
   "outputs": [],
   "source": [
    "df = data('mpg')"
   ]
  },
  {
   "cell_type": "code",
   "execution_count": 59,
   "id": "16d54b47",
   "metadata": {},
   "outputs": [
    {
     "data": {
      "text/html": [
       "<div>\n",
       "<style scoped>\n",
       "    .dataframe tbody tr th:only-of-type {\n",
       "        vertical-align: middle;\n",
       "    }\n",
       "\n",
       "    .dataframe tbody tr th {\n",
       "        vertical-align: top;\n",
       "    }\n",
       "\n",
       "    .dataframe thead th {\n",
       "        text-align: right;\n",
       "    }\n",
       "</style>\n",
       "<table border=\"1\" class=\"dataframe\">\n",
       "  <thead>\n",
       "    <tr style=\"text-align: right;\">\n",
       "      <th></th>\n",
       "      <th>manufacturer</th>\n",
       "      <th>model</th>\n",
       "      <th>displ</th>\n",
       "      <th>year</th>\n",
       "      <th>cyl</th>\n",
       "      <th>trans</th>\n",
       "      <th>drv</th>\n",
       "      <th>cty</th>\n",
       "      <th>hwy</th>\n",
       "      <th>fl</th>\n",
       "      <th>class</th>\n",
       "    </tr>\n",
       "  </thead>\n",
       "  <tbody>\n",
       "    <tr>\n",
       "      <th>1</th>\n",
       "      <td>audi</td>\n",
       "      <td>a4</td>\n",
       "      <td>1.8</td>\n",
       "      <td>1999</td>\n",
       "      <td>4</td>\n",
       "      <td>auto(l5)</td>\n",
       "      <td>f</td>\n",
       "      <td>18</td>\n",
       "      <td>29</td>\n",
       "      <td>p</td>\n",
       "      <td>compact</td>\n",
       "    </tr>\n",
       "    <tr>\n",
       "      <th>2</th>\n",
       "      <td>audi</td>\n",
       "      <td>a4</td>\n",
       "      <td>1.8</td>\n",
       "      <td>1999</td>\n",
       "      <td>4</td>\n",
       "      <td>manual(m5)</td>\n",
       "      <td>f</td>\n",
       "      <td>21</td>\n",
       "      <td>29</td>\n",
       "      <td>p</td>\n",
       "      <td>compact</td>\n",
       "    </tr>\n",
       "    <tr>\n",
       "      <th>3</th>\n",
       "      <td>audi</td>\n",
       "      <td>a4</td>\n",
       "      <td>2.0</td>\n",
       "      <td>2008</td>\n",
       "      <td>4</td>\n",
       "      <td>manual(m6)</td>\n",
       "      <td>f</td>\n",
       "      <td>20</td>\n",
       "      <td>31</td>\n",
       "      <td>p</td>\n",
       "      <td>compact</td>\n",
       "    </tr>\n",
       "    <tr>\n",
       "      <th>4</th>\n",
       "      <td>audi</td>\n",
       "      <td>a4</td>\n",
       "      <td>2.0</td>\n",
       "      <td>2008</td>\n",
       "      <td>4</td>\n",
       "      <td>auto(av)</td>\n",
       "      <td>f</td>\n",
       "      <td>21</td>\n",
       "      <td>30</td>\n",
       "      <td>p</td>\n",
       "      <td>compact</td>\n",
       "    </tr>\n",
       "    <tr>\n",
       "      <th>5</th>\n",
       "      <td>audi</td>\n",
       "      <td>a4</td>\n",
       "      <td>2.8</td>\n",
       "      <td>1999</td>\n",
       "      <td>6</td>\n",
       "      <td>auto(l5)</td>\n",
       "      <td>f</td>\n",
       "      <td>16</td>\n",
       "      <td>26</td>\n",
       "      <td>p</td>\n",
       "      <td>compact</td>\n",
       "    </tr>\n",
       "  </tbody>\n",
       "</table>\n",
       "</div>"
      ],
      "text/plain": [
       "  manufacturer model  displ  year  cyl       trans drv  cty  hwy fl    class\n",
       "1         audi    a4    1.8  1999    4    auto(l5)   f   18   29  p  compact\n",
       "2         audi    a4    1.8  1999    4  manual(m5)   f   21   29  p  compact\n",
       "3         audi    a4    2.0  2008    4  manual(m6)   f   20   31  p  compact\n",
       "4         audi    a4    2.0  2008    4    auto(av)   f   21   30  p  compact\n",
       "5         audi    a4    2.8  1999    6    auto(l5)   f   16   26  p  compact"
      ]
     },
     "execution_count": 59,
     "metadata": {},
     "output_type": "execute_result"
    }
   ],
   "source": [
    "df.head()"
   ]
  },
  {
   "cell_type": "code",
   "execution_count": 60,
   "id": "d49fca9f",
   "metadata": {},
   "outputs": [],
   "source": [
    "df['transmission_type'] = np.where(df.trans.str.contains('auto'), 'Auto', 'Manual')"
   ]
  },
  {
   "cell_type": "code",
   "execution_count": 61,
   "id": "9abb0843",
   "metadata": {},
   "outputs": [
    {
     "data": {
      "text/html": [
       "<div>\n",
       "<style scoped>\n",
       "    .dataframe tbody tr th:only-of-type {\n",
       "        vertical-align: middle;\n",
       "    }\n",
       "\n",
       "    .dataframe tbody tr th {\n",
       "        vertical-align: top;\n",
       "    }\n",
       "\n",
       "    .dataframe thead th {\n",
       "        text-align: right;\n",
       "    }\n",
       "</style>\n",
       "<table border=\"1\" class=\"dataframe\">\n",
       "  <thead>\n",
       "    <tr style=\"text-align: right;\">\n",
       "      <th></th>\n",
       "      <th>manufacturer</th>\n",
       "      <th>model</th>\n",
       "      <th>displ</th>\n",
       "      <th>year</th>\n",
       "      <th>cyl</th>\n",
       "      <th>trans</th>\n",
       "      <th>drv</th>\n",
       "      <th>cty</th>\n",
       "      <th>hwy</th>\n",
       "      <th>fl</th>\n",
       "      <th>class</th>\n",
       "      <th>transmission_type</th>\n",
       "    </tr>\n",
       "  </thead>\n",
       "  <tbody>\n",
       "    <tr>\n",
       "      <th>1</th>\n",
       "      <td>audi</td>\n",
       "      <td>a4</td>\n",
       "      <td>1.8</td>\n",
       "      <td>1999</td>\n",
       "      <td>4</td>\n",
       "      <td>auto(l5)</td>\n",
       "      <td>f</td>\n",
       "      <td>18</td>\n",
       "      <td>29</td>\n",
       "      <td>p</td>\n",
       "      <td>compact</td>\n",
       "      <td>Auto</td>\n",
       "    </tr>\n",
       "    <tr>\n",
       "      <th>2</th>\n",
       "      <td>audi</td>\n",
       "      <td>a4</td>\n",
       "      <td>1.8</td>\n",
       "      <td>1999</td>\n",
       "      <td>4</td>\n",
       "      <td>manual(m5)</td>\n",
       "      <td>f</td>\n",
       "      <td>21</td>\n",
       "      <td>29</td>\n",
       "      <td>p</td>\n",
       "      <td>compact</td>\n",
       "      <td>Manual</td>\n",
       "    </tr>\n",
       "    <tr>\n",
       "      <th>3</th>\n",
       "      <td>audi</td>\n",
       "      <td>a4</td>\n",
       "      <td>2.0</td>\n",
       "      <td>2008</td>\n",
       "      <td>4</td>\n",
       "      <td>manual(m6)</td>\n",
       "      <td>f</td>\n",
       "      <td>20</td>\n",
       "      <td>31</td>\n",
       "      <td>p</td>\n",
       "      <td>compact</td>\n",
       "      <td>Manual</td>\n",
       "    </tr>\n",
       "    <tr>\n",
       "      <th>4</th>\n",
       "      <td>audi</td>\n",
       "      <td>a4</td>\n",
       "      <td>2.0</td>\n",
       "      <td>2008</td>\n",
       "      <td>4</td>\n",
       "      <td>auto(av)</td>\n",
       "      <td>f</td>\n",
       "      <td>21</td>\n",
       "      <td>30</td>\n",
       "      <td>p</td>\n",
       "      <td>compact</td>\n",
       "      <td>Auto</td>\n",
       "    </tr>\n",
       "    <tr>\n",
       "      <th>5</th>\n",
       "      <td>audi</td>\n",
       "      <td>a4</td>\n",
       "      <td>2.8</td>\n",
       "      <td>1999</td>\n",
       "      <td>6</td>\n",
       "      <td>auto(l5)</td>\n",
       "      <td>f</td>\n",
       "      <td>16</td>\n",
       "      <td>26</td>\n",
       "      <td>p</td>\n",
       "      <td>compact</td>\n",
       "      <td>Auto</td>\n",
       "    </tr>\n",
       "  </tbody>\n",
       "</table>\n",
       "</div>"
      ],
      "text/plain": [
       "  manufacturer model  displ  year  cyl       trans drv  cty  hwy fl    class  \\\n",
       "1         audi    a4    1.8  1999    4    auto(l5)   f   18   29  p  compact   \n",
       "2         audi    a4    1.8  1999    4  manual(m5)   f   21   29  p  compact   \n",
       "3         audi    a4    2.0  2008    4  manual(m6)   f   20   31  p  compact   \n",
       "4         audi    a4    2.0  2008    4    auto(av)   f   21   30  p  compact   \n",
       "5         audi    a4    2.8  1999    6    auto(l5)   f   16   26  p  compact   \n",
       "\n",
       "  transmission_type  \n",
       "1              Auto  \n",
       "2            Manual  \n",
       "3            Manual  \n",
       "4              Auto  \n",
       "5              Auto  "
      ]
     },
     "execution_count": 61,
     "metadata": {},
     "output_type": "execute_result"
    }
   ],
   "source": [
    "df.head()"
   ]
  },
  {
   "cell_type": "code",
   "execution_count": 62,
   "id": "921c2f0f",
   "metadata": {},
   "outputs": [],
   "source": [
    "# pick our two categoricals"
   ]
  },
  {
   "cell_type": "code",
   "execution_count": 63,
   "id": "9612926b",
   "metadata": {},
   "outputs": [
    {
     "data": {
      "text/plain": [
       "Auto      157\n",
       "Manual     77\n",
       "Name: transmission_type, dtype: int64"
      ]
     },
     "execution_count": 63,
     "metadata": {},
     "output_type": "execute_result"
    }
   ],
   "source": [
    "df.transmission_type.value_counts()"
   ]
  },
  {
   "cell_type": "code",
   "execution_count": 64,
   "id": "836fa89b",
   "metadata": {},
   "outputs": [
    {
     "data": {
      "text/plain": [
       "f    106\n",
       "4    103\n",
       "r     25\n",
       "Name: drv, dtype: int64"
      ]
     },
     "execution_count": 64,
     "metadata": {},
     "output_type": "execute_result"
    }
   ],
   "source": [
    "df['drv'].value_counts()"
   ]
  },
  {
   "cell_type": "code",
   "execution_count": 65,
   "id": "4a4aa5eb",
   "metadata": {},
   "outputs": [],
   "source": [
    "a = df.transmission_type\n",
    "b = df.drv"
   ]
  },
  {
   "cell_type": "markdown",
   "id": "4dff803d",
   "metadata": {},
   "source": [
    "### H0: Transmission type is not independent of drive type on vehicles.\n",
    "### HA: Transmission type is independent of drive type on vehicles."
   ]
  },
  {
   "cell_type": "code",
   "execution_count": 66,
   "id": "6a57d404",
   "metadata": {},
   "outputs": [
    {
     "data": {
      "text/html": [
       "<div>\n",
       "<style scoped>\n",
       "    .dataframe tbody tr th:only-of-type {\n",
       "        vertical-align: middle;\n",
       "    }\n",
       "\n",
       "    .dataframe tbody tr th {\n",
       "        vertical-align: top;\n",
       "    }\n",
       "\n",
       "    .dataframe thead th {\n",
       "        text-align: right;\n",
       "    }\n",
       "</style>\n",
       "<table border=\"1\" class=\"dataframe\">\n",
       "  <thead>\n",
       "    <tr style=\"text-align: right;\">\n",
       "      <th>drv</th>\n",
       "      <th>4</th>\n",
       "      <th>f</th>\n",
       "      <th>r</th>\n",
       "    </tr>\n",
       "    <tr>\n",
       "      <th>transmission_type</th>\n",
       "      <th></th>\n",
       "      <th></th>\n",
       "      <th></th>\n",
       "    </tr>\n",
       "  </thead>\n",
       "  <tbody>\n",
       "    <tr>\n",
       "      <th>Auto</th>\n",
       "      <td>75</td>\n",
       "      <td>65</td>\n",
       "      <td>17</td>\n",
       "    </tr>\n",
       "    <tr>\n",
       "      <th>Manual</th>\n",
       "      <td>28</td>\n",
       "      <td>41</td>\n",
       "      <td>8</td>\n",
       "    </tr>\n",
       "  </tbody>\n",
       "</table>\n",
       "</div>"
      ],
      "text/plain": [
       "drv                 4   f   r\n",
       "transmission_type            \n",
       "Auto               75  65  17\n",
       "Manual             28  41   8"
      ]
     },
     "execution_count": 66,
     "metadata": {},
     "output_type": "execute_result"
    }
   ],
   "source": [
    "# create a contingency table\n",
    "\n",
    "observed = pd.crosstab(a,b)\n",
    "observed"
   ]
  },
  {
   "cell_type": "code",
   "execution_count": 67,
   "id": "7113d1fc",
   "metadata": {},
   "outputs": [
    {
     "name": "stdout",
     "output_type": "stream",
     "text": [
      "Observed\n",
      ":\n",
      "[[75 65 17]\n",
      " [28 41  8]]\n",
      "------------------------\n",
      "Expected: \n",
      "\n",
      "[[69 71 16]\n",
      " [33 34  8]]\n",
      "------------------------\n",
      "\n",
      "chi2 = 3.14\n",
      "p value: 0.2084\n",
      "We fail to reject the null hypothesis\n"
     ]
    }
   ],
   "source": [
    "chi2, p, degf, expected = stats.chi2_contingency(observed)\n",
    "\n",
    "print('Observed\\n:')\n",
    "print(observed.values)\n",
    "print('------------------------\\nExpected: \\n')\n",
    "print(expected.astype(int))\n",
    "print('------------------------\\n')\n",
    "print(f'chi2 = {chi2:.2f}')\n",
    "print(f'p value: {p:.4f}')\n",
    "if p < alpha:\n",
    "      print('We can reject the null hypothesis')\n",
    "else:\n",
    "    print('We fail to reject the null hypothesis')"
   ]
  }
 ],
 "metadata": {
  "kernelspec": {
   "display_name": "Python 3",
   "language": "python",
   "name": "python3"
  },
  "language_info": {
   "codemirror_mode": {
    "name": "ipython",
    "version": 3
   },
   "file_extension": ".py",
   "mimetype": "text/x-python",
   "name": "python",
   "nbconvert_exporter": "python",
   "pygments_lexer": "ipython3",
   "version": "3.8.8"
  }
 },
 "nbformat": 4,
 "nbformat_minor": 5
}
