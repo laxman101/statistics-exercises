{
 "cells": [
  {
   "cell_type": "code",
   "execution_count": 1,
   "id": "a36cbdc5",
   "metadata": {},
   "outputs": [],
   "source": [
    "import matplotlib.pyplot as plt\n",
    "import numpy as np\n",
    "import pandas as pd\n",
    "from scipy import stats"
   ]
  },
  {
   "cell_type": "markdown",
   "id": "024266b0",
   "metadata": {},
   "source": [
    "## 1. For the following problems, use python to simulate the problem and calculate an experimental probability, then compare that to the theoretical probability.\n",
    "\n",
    "### A bank found that the average number of cars waiting during the noon hour at a drive-up window follows a Poisson distribution with a mean of 2 cars. Make a chart of this distribution and answer these questions concerning the probability of cars waiting at the drive-up window.\n",
    "\n",
    "### a. What is the probability that no cars drive up in the noon hour?"
   ]
  },
  {
   "cell_type": "code",
   "execution_count": 2,
   "id": "f9ef625f",
   "metadata": {},
   "outputs": [
    {
     "data": {
      "text/plain": [
       "<BarContainer object of 30 artists>"
      ]
     },
     "execution_count": 2,
     "metadata": {},
     "output_type": "execute_result"
    },
    {
     "data": {
      "image/png": "[encoded data removed]",
      "text/plain": [
       "<Figure size 432x288 with 1 Axes>"
      ]
     },
     "metadata": {
      "needs_background": "light"
     },
     "output_type": "display_data"
    }
   ],
   "source": [
    "λ = 2 #cars waiting at noon\n",
    "x = np.arange(0,30)\n",
    "y = stats.poisson(λ).pmf(x)\n",
    "\n",
    "plt.bar(x,y)"
   ]
  },
  {
   "cell_type": "code",
   "execution_count": 3,
   "id": "33715af9",
   "metadata": {},
   "outputs": [
    {
     "data": {
      "text/plain": [
       "0.1353352832366127"
      ]
     },
     "execution_count": 3,
     "metadata": {},
     "output_type": "execute_result"
    }
   ],
   "source": [
    "stats.poisson(λ).pmf(0)"
   ]
  },
  {
   "cell_type": "markdown",
   "id": "f3d68aff",
   "metadata": {},
   "source": [
    "### b. What is the probability that 3 or more cars come through the drive through?"
   ]
  },
  {
   "cell_type": "code",
   "execution_count": 4,
   "id": "0566a849",
   "metadata": {},
   "outputs": [
    {
     "data": {
      "text/plain": [
       "0.32332358381693654"
      ]
     },
     "execution_count": 4,
     "metadata": {},
     "output_type": "execute_result"
    }
   ],
   "source": [
    "stats.poisson(λ).sf(2)"
   ]
  },
  {
   "cell_type": "markdown",
   "id": "74235c11",
   "metadata": {},
   "source": [
    "### c. How likely is it that the drive through gets at least 1 car?"
   ]
  },
  {
   "cell_type": "code",
   "execution_count": 5,
   "id": "3a6e0bcf",
   "metadata": {},
   "outputs": [
    {
     "data": {
      "text/plain": [
       "0.8646647167633873"
      ]
     },
     "execution_count": 5,
     "metadata": {},
     "output_type": "execute_result"
    }
   ],
   "source": [
    "stats.poisson(λ).sf(0)"
   ]
  },
  {
   "cell_type": "markdown",
   "id": "373d2246",
   "metadata": {},
   "source": [
    "## 2. Grades of State University graduates are normally distributed with a mean of 3.0 and a standard deviation of .3. Calculate the following:\n",
    "\n",
    "### a. What grade point average is required to be in the top 5% of the graduating class?\n"
   ]
  },
  {
   "cell_type": "code",
   "execution_count": 6,
   "id": "8d1e475b",
   "metadata": {},
   "outputs": [],
   "source": [
    "# parameters defining the normal dist\n",
    "mean = 3\n",
    "std_dev = 0.3\n",
    "\n",
    "# Use Scripy Stats module to generte a dist:\n",
    "gpa = stats.norm(mean, std_dev)"
   ]
  },
  {
   "cell_type": "code",
   "execution_count": 7,
   "id": "aae9bd28",
   "metadata": {},
   "outputs": [
    {
     "data": {
      "text/plain": [
       "3.4934560880854417"
      ]
     },
     "execution_count": 7,
     "metadata": {},
     "output_type": "execute_result"
    }
   ],
   "source": [
    "gpa.isf(0.05)"
   ]
  },
  {
   "cell_type": "markdown",
   "id": "e082ff6b",
   "metadata": {},
   "source": [
    "### b. What GPA constitutes the bottom 15% of the class?"
   ]
  },
  {
   "cell_type": "code",
   "execution_count": 8,
   "id": "d895c47e",
   "metadata": {},
   "outputs": [
    {
     "data": {
      "text/plain": [
       "2.689069983151863"
      ]
     },
     "execution_count": 8,
     "metadata": {},
     "output_type": "execute_result"
    }
   ],
   "source": [
    "gpa.ppf(0.15)"
   ]
  },
  {
   "cell_type": "markdown",
   "id": "62b69d54",
   "metadata": {},
   "source": [
    "### c. An eccentric alumnus left scholarship money for students in the third decile from the bottom of their class. Determine the range of the third decile. Would a student with a 2.8 grade point average qualify for this scholarship?"
   ]
  },
  {
   "cell_type": "code",
   "execution_count": 9,
   "id": "0404b00a",
   "metadata": {},
   "outputs": [],
   "source": [
    "# 1st decile: 0-10 percentile\n",
    "# 2nd decile: 10-20 percentile\n",
    "# 3rd decile: 20-30 percentile"
   ]
  },
  {
   "cell_type": "code",
   "execution_count": 10,
   "id": "e5f099cb",
   "metadata": {},
   "outputs": [
    {
     "data": {
      "text/plain": [
       "array([2.74751363, 2.84267985])"
      ]
     },
     "execution_count": 10,
     "metadata": {},
     "output_type": "execute_result"
    }
   ],
   "source": [
    "stats.norm(3, 0.3).ppf([0.2, 0.3])"
   ]
  },
  {
   "cell_type": "markdown",
   "id": "f15d612d",
   "metadata": {},
   "source": [
    "### d. If I have a GPA of 3.5, what percentile am I in?"
   ]
  },
  {
   "cell_type": "code",
   "execution_count": 11,
   "id": "1ede0892",
   "metadata": {},
   "outputs": [
    {
     "data": {
      "text/plain": [
       "0.9522096477271853"
      ]
     },
     "execution_count": 11,
     "metadata": {},
     "output_type": "execute_result"
    }
   ],
   "source": [
    "stats.norm(3, 0.3).cdf(3.5)"
   ]
  },
  {
   "cell_type": "code",
   "execution_count": 12,
   "id": "363572f5",
   "metadata": {},
   "outputs": [
    {
     "data": {
      "text/plain": [
       "0.95181"
      ]
     },
     "execution_count": 12,
     "metadata": {},
     "output_type": "execute_result"
    }
   ],
   "source": [
    "# by Simulation\n",
    "(np.random.normal(3, 0.3, 100_000) < 3.5).mean()"
   ]
  },
  {
   "cell_type": "markdown",
   "id": "0518a654",
   "metadata": {},
   "source": [
    "### 3. A marketing website has an average click-through rate of 2%. One day they observe 4326 visitors and 97 click-throughs. How likely is it that this many people or more click through?"
   ]
  },
  {
   "cell_type": "code",
   "execution_count": 13,
   "id": "9a5e626c",
   "metadata": {},
   "outputs": [
    {
     "data": {
      "text/plain": [
       "0.1397582363130086"
      ]
     },
     "execution_count": 13,
     "metadata": {},
     "output_type": "execute_result"
    }
   ],
   "source": [
    "# What are the appropriate defining parameters for this distribution?\n",
    "n_trials = 4326\n",
    "p = 0.02\n",
    "\n",
    "\n",
    "stats.binom(4326, 0.02).sf(96)"
   ]
  },
  {
   "cell_type": "markdown",
   "id": "2446c742",
   "metadata": {},
   "source": [
    "### 4.You are working on some statistics homework consisting of 100 questions where all of the answers are a probability rounded to the hundreths place. Looking to save time, you put down random probabilities as the answer to each question.\n",
    "\n",
    "### What is the probability that at least one of your first 60 answers is correct?\n"
   ]
  },
  {
   "cell_type": "code",
   "execution_count": 14,
   "id": "0b39edc0",
   "metadata": {},
   "outputs": [
    {
     "data": {
      "text/plain": [
       "0.4528433576092388"
      ]
     },
     "execution_count": 14,
     "metadata": {},
     "output_type": "execute_result"
    }
   ],
   "source": [
    "n = 60\n",
    "p = 0.01\n",
    "\n",
    "stats.binom(n, p).sf(0)"
   ]
  },
  {
   "cell_type": "markdown",
   "id": "292ca624",
   "metadata": {},
   "source": [
    "### 5. The codeup staff tends to get upset when the student break area is not cleaned up. Suppose that there's a 3% chance that any one student cleans the break area when they visit it, and, on any given day, about 90% of the 3 active cohorts of 22 students visit the break area. How likely is it that the break area gets cleaned up each day? How likely is it that it goes two days without getting cleaned up? All week?"
   ]
  },
  {
   "cell_type": "code",
   "execution_count": 15,
   "id": "edde2908",
   "metadata": {},
   "outputs": [
    {
     "data": {
      "text/plain": [
       "0.8342199288437355"
      ]
     },
     "execution_count": 15,
     "metadata": {},
     "output_type": "execute_result"
    }
   ],
   "source": [
    "n = round(0.9 * 3 * 22)\n",
    "p = 0.03\n",
    "\n",
    "stats.binom(n, p).sf(0)"
   ]
  },
  {
   "cell_type": "code",
   "execution_count": 16,
   "id": "171806bd",
   "metadata": {},
   "outputs": [
    {
     "data": {
      "text/plain": [
       "Text(0.5, 0, 'Number of time area is cleaned per day')"
      ]
     },
     "execution_count": 16,
     "metadata": {},
     "output_type": "execute_result"
    },
    {
     "data": {
      "image/png": "[encoded data removed]",
      "text/plain": [
       "<Figure size 432x288 with 1 Axes>"
      ]
     },
     "metadata": {
      "needs_background": "light"
     },
     "output_type": "display_data"
    }
   ],
   "source": [
    "x = np.arange(0, 10)\n",
    "y = stats.binom(n,p).pmf(x)\n",
    "\n",
    "plt.bar(x, y)\n",
    "plt.xlabel('Number of time area is cleaned per day')"
   ]
  },
  {
   "cell_type": "code",
   "execution_count": 17,
   "id": "100eb334",
   "metadata": {},
   "outputs": [
    {
     "data": {
      "text/plain": [
       "0.02748303199257622"
      ]
     },
     "execution_count": 17,
     "metadata": {},
     "output_type": "execute_result"
    }
   ],
   "source": [
    "#  How likely is it that it goes two days without getting cleaned up?\n",
    "\n",
    "\n",
    "# How many students would visit the area in two days?\n",
    "\n",
    "stats.binom(n * 2, p).pmf(0)"
   ]
  },
  {
   "cell_type": "code",
   "execution_count": 18,
   "id": "4311fed4",
   "metadata": {},
   "outputs": [
    {
     "data": {
      "text/plain": [
       "0.00012521651388091353"
      ]
     },
     "execution_count": 18,
     "metadata": {},
     "output_type": "execute_result"
    }
   ],
   "source": [
    "# probability of not getting cleaned for a week (5 days)\n",
    "\n",
    "stats.binom(n * 5, p).pmf(0)"
   ]
  },
  {
   "cell_type": "markdown",
   "id": "c343d32f",
   "metadata": {},
   "source": [
    "### 6. You want to get lunch at La Panaderia, but notice that the line is usually very long at lunchtime. After several weeks of careful observation, you notice that the average number of people in line when your lunch break starts is normally distributed with a mean of 15 and standard deviation of 3. If it takes 2 minutes for each person to order, and 10 minutes from ordering to getting your food, what is the likelihood that you have at least 15 minutes left to eat your food before you have to go back to class? Assume you have one hour for lunch, and ignore travel time to and from La Panaderia."
   ]
  },
  {
   "cell_type": "code",
   "execution_count": 19,
   "id": "144f36fc",
   "metadata": {},
   "outputs": [
    {
     "data": {
      "text/plain": [
       "0.6914624612740131"
      ]
     },
     "execution_count": 19,
     "metadata": {},
     "output_type": "execute_result"
    }
   ],
   "source": [
    "# convert mean and std from people to 'minutes':\n",
    "mean = 15 * 2 # minutes\n",
    "std_dev = 3 * 2 # minutes\n",
    "\n",
    "\n",
    "# Max time I can be in line without getting late to class = 60 - 15 -10 - 2 = 33 mins\n",
    "\n",
    "stats.norm(mean, std_dev).cdf(33)"
   ]
  },
  {
   "cell_type": "code",
   "execution_count": 20,
   "id": "58b3db83",
   "metadata": {},
   "outputs": [
    {
     "data": {
      "text/plain": [
       "<matplotlib.lines.Line2D at 0x7fd8e35df1c0>"
      ]
     },
     "execution_count": 20,
     "metadata": {},
     "output_type": "execute_result"
    },
    {
     "data": {
      "image/png": "[encoded data removed]",
      "text/plain": [
       "<Figure size 432x288 with 1 Axes>"
      ]
     },
     "metadata": {
      "needs_background": "light"
     },
     "output_type": "display_data"
    }
   ],
   "source": [
    "x = np.arange(0, 60 , 0.1)\n",
    "y = stats.norm(mean, std_dev).pdf(x)\n",
    "\n",
    "plt.plot(x,y)\n",
    "plt.axvline(35, ls = '--')\n",
    "# plt.axvline(45, ls = '--')"
   ]
  },
  {
   "cell_type": "code",
   "execution_count": 21,
   "id": "0c1bb612",
   "metadata": {},
   "outputs": [
    {
     "data": {
      "text/plain": [
       "0.68984"
      ]
     },
     "execution_count": 21,
     "metadata": {},
     "output_type": "execute_result"
    }
   ],
   "source": [
    "(np.random.normal(30, 6, 100_000) <= 33).mean()"
   ]
  }
 ],
 "metadata": {
  "kernelspec": {
   "display_name": "Python 3",
   "language": "python",
   "name": "python3"
  },
  "language_info": {
   "codemirror_mode": {
    "name": "ipython",
    "version": 3
   },
   "file_extension": ".py",
   "mimetype": "text/x-python",
   "name": "python",
   "nbconvert_exporter": "python",
   "pygments_lexer": "ipython3",
   "version": "3.8.8"
  }
 },
 "nbformat": 4,
 "nbformat_minor": 5
}
