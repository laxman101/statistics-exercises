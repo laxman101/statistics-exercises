{
 "cells": [
  {
   "cell_type": "code",
   "execution_count": null,
   "id": "1a32a09a",
   "metadata": {},
   "outputs": [],
   "source": [
    "# Do your work for this exercise in either a python file named simulation.py or a jupyter notebook named simulation.ipynb.\n",
    "\n",
    "# 1. How likely is it that you roll doubles when rolling two dice?"
   ]
  }
 ],
 "metadata": {
  "kernelspec": {
   "display_name": "Python 3",
   "language": "python",
   "name": "python3"
  },
  "language_info": {
   "codemirror_mode": {
    "name": "ipython",
    "version": 3
   },
   "file_extension": ".py",
   "mimetype": "text/x-python",
   "name": "python",
   "nbconvert_exporter": "python",
   "pygments_lexer": "ipython3",
   "version": "3.8.8"
  }
 },
 "nbformat": 4,
 "nbformat_minor": 5
}
