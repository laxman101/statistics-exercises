{
 "cells": [
  {
   "cell_type": "markdown",
   "id": "aa1b5939",
   "metadata": {},
   "source": [
    "### Do your work for this exercise in either a python file named simulation.py or a jupyter notebook named simulation.ipynb.\n",
    "\n",
    "### 1. How likely is it that you roll doubles when rolling two dice?"
   ]
  },
  {
   "cell_type": "code",
   "execution_count": 1,
   "id": "76e28659",
   "metadata": {},
   "outputs": [],
   "source": [
    "import numpy as np\n",
    "import pandas as pd\n",
    "import random\n",
    "np.random.seed(29)"
   ]
  },
  {
   "cell_type": "code",
   "execution_count": 2,
   "id": "6d4e3d19",
   "metadata": {},
   "outputs": [
    {
     "data": {
      "text/plain": [
       "0.1613"
      ]
     },
     "execution_count": 2,
     "metadata": {},
     "output_type": "execute_result"
    }
   ],
   "source": [
    "die1 = np.random.choice([1, 2, 3, 4, 5 ,6], 10_000)\n",
    "die2 = np.random.choice([1, 2, 3, 4, 5, 6], 10_000)\n",
    "\n",
    "samesies = die1 == die2\n",
    "samesies.mean()"
   ]
  },
  {
   "cell_type": "markdown",
   "id": "20ae8851",
   "metadata": {},
   "source": [
    "### 2. If you flip 8 coins, what is the probability of getting exactly 3 heads? What is the probability of getting more than 3 heads?"
   ]
  },
  {
   "cell_type": "code",
   "execution_count": 3,
   "id": "ddd38ea9",
   "metadata": {},
   "outputs": [],
   "source": [
    "nrows = 100_000 \n",
    "ncols = 8       \n"
   ]
  },
  {
   "cell_type": "code",
   "execution_count": 4,
   "id": "dedacabf",
   "metadata": {},
   "outputs": [],
   "source": [
    "rolls = np.random.choice([True, False], nrows * ncols).reshape(nrows, ncols)\n"
   ]
  },
  {
   "cell_type": "code",
   "execution_count": 5,
   "id": "eb58475f",
   "metadata": {},
   "outputs": [
    {
     "data": {
      "text/html": [
       "<div>\n",
       "<style scoped>\n",
       "    .dataframe tbody tr th:only-of-type {\n",
       "        vertical-align: middle;\n",
       "    }\n",
       "\n",
       "    .dataframe tbody tr th {\n",
       "        vertical-align: top;\n",
       "    }\n",
       "\n",
       "    .dataframe thead th {\n",
       "        text-align: right;\n",
       "    }\n",
       "</style>\n",
       "<table border=\"1\" class=\"dataframe\">\n",
       "  <thead>\n",
       "    <tr style=\"text-align: right;\">\n",
       "      <th></th>\n",
       "      <th>0</th>\n",
       "      <th>1</th>\n",
       "      <th>2</th>\n",
       "      <th>3</th>\n",
       "      <th>4</th>\n",
       "      <th>5</th>\n",
       "      <th>6</th>\n",
       "      <th>7</th>\n",
       "    </tr>\n",
       "  </thead>\n",
       "  <tbody>\n",
       "    <tr>\n",
       "      <th>0</th>\n",
       "      <td>True</td>\n",
       "      <td>True</td>\n",
       "      <td>True</td>\n",
       "      <td>True</td>\n",
       "      <td>False</td>\n",
       "      <td>True</td>\n",
       "      <td>False</td>\n",
       "      <td>False</td>\n",
       "    </tr>\n",
       "    <tr>\n",
       "      <th>1</th>\n",
       "      <td>True</td>\n",
       "      <td>True</td>\n",
       "      <td>False</td>\n",
       "      <td>False</td>\n",
       "      <td>False</td>\n",
       "      <td>False</td>\n",
       "      <td>False</td>\n",
       "      <td>True</td>\n",
       "    </tr>\n",
       "    <tr>\n",
       "      <th>2</th>\n",
       "      <td>False</td>\n",
       "      <td>True</td>\n",
       "      <td>False</td>\n",
       "      <td>True</td>\n",
       "      <td>False</td>\n",
       "      <td>False</td>\n",
       "      <td>False</td>\n",
       "      <td>False</td>\n",
       "    </tr>\n",
       "    <tr>\n",
       "      <th>3</th>\n",
       "      <td>True</td>\n",
       "      <td>False</td>\n",
       "      <td>True</td>\n",
       "      <td>True</td>\n",
       "      <td>True</td>\n",
       "      <td>True</td>\n",
       "      <td>False</td>\n",
       "      <td>False</td>\n",
       "    </tr>\n",
       "    <tr>\n",
       "      <th>4</th>\n",
       "      <td>False</td>\n",
       "      <td>True</td>\n",
       "      <td>True</td>\n",
       "      <td>False</td>\n",
       "      <td>True</td>\n",
       "      <td>True</td>\n",
       "      <td>False</td>\n",
       "      <td>False</td>\n",
       "    </tr>\n",
       "  </tbody>\n",
       "</table>\n",
       "</div>"
      ],
      "text/plain": [
       "       0      1      2      3      4      5      6      7\n",
       "0   True   True   True   True  False   True  False  False\n",
       "1   True   True  False  False  False  False  False   True\n",
       "2  False   True  False   True  False  False  False  False\n",
       "3   True  False   True   True   True   True  False  False\n",
       "4  False   True   True  False   True   True  False  False"
      ]
     },
     "execution_count": 5,
     "metadata": {},
     "output_type": "execute_result"
    }
   ],
   "source": [
    "df = pd.DataFrame(rolls)\n",
    "df.head()"
   ]
  },
  {
   "cell_type": "code",
   "execution_count": 6,
   "id": "c64cd626",
   "metadata": {},
   "outputs": [],
   "source": [
    "three_heads = df.apply(lambda row: row.values.sum() == 3, axis=1).mean()\n"
   ]
  },
  {
   "cell_type": "code",
   "execution_count": 7,
   "id": "f1042bd4",
   "metadata": {},
   "outputs": [
    {
     "data": {
      "text/plain": [
       "0.22084"
      ]
     },
     "execution_count": 7,
     "metadata": {},
     "output_type": "execute_result"
    }
   ],
   "source": [
    "three_heads"
   ]
  },
  {
   "cell_type": "code",
   "execution_count": 8,
   "id": "1491d509",
   "metadata": {},
   "outputs": [],
   "source": [
    "more_than_three_heads = df.apply(lambda row: row.values.sum() >= 3, axis=1).mean()\n"
   ]
  },
  {
   "cell_type": "code",
   "execution_count": 9,
   "id": "227079ff",
   "metadata": {},
   "outputs": [
    {
     "data": {
      "text/plain": [
       "0.85551"
      ]
     },
     "execution_count": 9,
     "metadata": {},
     "output_type": "execute_result"
    }
   ],
   "source": [
    "more_than_three_heads"
   ]
  },
  {
   "cell_type": "markdown",
   "id": "d7ed383e",
   "metadata": {},
   "source": [
    "### 3. There are approximitely 3 web development cohorts for every 1 data science cohort at Codeup. Assuming that Codeup randomly selects an alumni to put on a billboard, what are the odds that the two billboards I drive past both have data science students on them?"
   ]
  },
  {
   "cell_type": "code",
   "execution_count": 10,
   "id": "edf80c8a",
   "metadata": {},
   "outputs": [
    {
     "data": {
      "text/plain": [
       "array([[0, 0],\n",
       "       [0, 1],\n",
       "       [0, 0],\n",
       "       ...,\n",
       "       [1, 0],\n",
       "       [0, 0],\n",
       "       [0, 0]])"
      ]
     },
     "execution_count": 10,
     "metadata": {},
     "output_type": "execute_result"
    }
   ],
   "source": [
    "n_sim = 100_000\n",
    "n_driveby = 2\n",
    "\n",
    "billboards = np.random.choice([1,0], size=(n_sim, n_driveby), p=[.25, .75])\n",
    "\n",
    "billboards\n"
   ]
  },
  {
   "cell_type": "code",
   "execution_count": 11,
   "id": "7eed3d58",
   "metadata": {},
   "outputs": [
    {
     "data": {
      "text/plain": [
       "array([0, 1, 0, ..., 1, 0, 0])"
      ]
     },
     "execution_count": 11,
     "metadata": {},
     "output_type": "execute_result"
    }
   ],
   "source": [
    "ds_billboards = billboards.sum(axis = 1)\n",
    "\n",
    "ds_billboards"
   ]
  },
  {
   "cell_type": "code",
   "execution_count": 12,
   "id": "aac9d19a",
   "metadata": {},
   "outputs": [
    {
     "data": {
      "text/plain": [
       "0.06212"
      ]
     },
     "execution_count": 12,
     "metadata": {},
     "output_type": "execute_result"
    }
   ],
   "source": [
    "(ds_billboards == 2).mean()"
   ]
  },
  {
   "cell_type": "markdown",
   "id": "456d498c",
   "metadata": {},
   "source": [
    "### 4. Codeup students buy, on average, 3 poptart packages with a standard deviation of 1.5 a day from the snack vending machine. If on monday the machine is restocked with 17 poptart packages, how likely is it that I will be able to buy some poptarts on Friday afternoon? (Remember, if you have mean and standard deviation, use the np.random.normal)"
   ]
  },
  {
   "cell_type": "code",
   "execution_count": 13,
   "id": "44a2460a",
   "metadata": {},
   "outputs": [
    {
     "data": {
      "text/html": [
       "<div>\n",
       "<style scoped>\n",
       "    .dataframe tbody tr th:only-of-type {\n",
       "        vertical-align: middle;\n",
       "    }\n",
       "\n",
       "    .dataframe tbody tr th {\n",
       "        vertical-align: top;\n",
       "    }\n",
       "\n",
       "    .dataframe thead th {\n",
       "        text-align: right;\n",
       "    }\n",
       "</style>\n",
       "<table border=\"1\" class=\"dataframe\">\n",
       "  <thead>\n",
       "    <tr style=\"text-align: right;\">\n",
       "      <th></th>\n",
       "      <th>0</th>\n",
       "      <th>1</th>\n",
       "      <th>2</th>\n",
       "      <th>3</th>\n",
       "      <th>4</th>\n",
       "    </tr>\n",
       "  </thead>\n",
       "  <tbody>\n",
       "    <tr>\n",
       "      <th>0</th>\n",
       "      <td>7</td>\n",
       "      <td>3</td>\n",
       "      <td>3</td>\n",
       "      <td>3</td>\n",
       "      <td>1</td>\n",
       "    </tr>\n",
       "    <tr>\n",
       "      <th>1</th>\n",
       "      <td>5</td>\n",
       "      <td>1</td>\n",
       "      <td>6</td>\n",
       "      <td>5</td>\n",
       "      <td>3</td>\n",
       "    </tr>\n",
       "    <tr>\n",
       "      <th>2</th>\n",
       "      <td>2</td>\n",
       "      <td>1</td>\n",
       "      <td>2</td>\n",
       "      <td>3</td>\n",
       "      <td>3</td>\n",
       "    </tr>\n",
       "    <tr>\n",
       "      <th>3</th>\n",
       "      <td>4</td>\n",
       "      <td>4</td>\n",
       "      <td>0</td>\n",
       "      <td>1</td>\n",
       "      <td>0</td>\n",
       "    </tr>\n",
       "    <tr>\n",
       "      <th>4</th>\n",
       "      <td>3</td>\n",
       "      <td>1</td>\n",
       "      <td>3</td>\n",
       "      <td>0</td>\n",
       "      <td>2</td>\n",
       "    </tr>\n",
       "  </tbody>\n",
       "</table>\n",
       "</div>"
      ],
      "text/plain": [
       "   0  1  2  3  4\n",
       "0  7  3  3  3  1\n",
       "1  5  1  6  5  3\n",
       "2  2  1  2  3  3\n",
       "3  4  4  0  1  0\n",
       "4  3  1  3  0  2"
      ]
     },
     "execution_count": 13,
     "metadata": {},
     "output_type": "execute_result"
    }
   ],
   "source": [
    "nrows = 100_000 # set rows to number of simulations\n",
    "ncols = 5       # set columns to number of days in each simulation\n",
    "\n",
    "# create an array of values using random.normal to repesent the number of PopTarts bought in a day\n",
    "# reshabe that array into trial groups of 5 to represent five days or PopTart buying\n",
    "rolls = np.random.normal(3, 1.5, nrows * ncols).astype(int).reshape(nrows, ncols)\n",
    "\n",
    "# convert to data frame\n",
    "df = pd.DataFrame(rolls)\n",
    "df.head()"
   ]
  },
  {
   "cell_type": "code",
   "execution_count": 14,
   "id": "420282e6",
   "metadata": {},
   "outputs": [
    {
     "data": {
      "text/plain": [
       "0.87775"
      ]
     },
     "execution_count": 14,
     "metadata": {},
     "output_type": "execute_result"
    }
   ],
   "source": [
    "# count the number of bought PopTarts in each row and create a boolean array showing weather the total number of bought PopTarts equals or exceeds 17\n",
    "# take the mean of the array to get the probability of having poptarts available to by on friday afternoon\n",
    "odds_of_tarts = df.apply(lambda row: row.values.sum() < 17, axis=1).mean()\n",
    "\n",
    "odds_of_tarts"
   ]
  },
  {
   "cell_type": "markdown",
   "id": "4cfba92c",
   "metadata": {},
   "source": [
    "### 5. Compare Heights\n",
    "\n",
    "### a. Men have an average height of 178 cm and standard deviation of 8cm."
   ]
  },
  {
   "cell_type": "markdown",
   "id": "ceac5b6c",
   "metadata": {},
   "source": [
    "### b. Women have a mean of 170, sd = 6cm."
   ]
  },
  {
   "cell_type": "markdown",
   "id": "bffe5eec",
   "metadata": {},
   "source": [
    "### c. Since you have means and standard deviations, you can use np.random.normal to generate observations."
   ]
  },
  {
   "cell_type": "markdown",
   "id": "4185e3bd",
   "metadata": {},
   "source": [
    "### d. If a man and woman are chosen at random, P(woman taller than man)?"
   ]
  },
  {
   "cell_type": "code",
   "execution_count": 15,
   "id": "151ee9c8",
   "metadata": {},
   "outputs": [
    {
     "data": {
      "text/html": [
       "<div>\n",
       "<style scoped>\n",
       "    .dataframe tbody tr th:only-of-type {\n",
       "        vertical-align: middle;\n",
       "    }\n",
       "\n",
       "    .dataframe tbody tr th {\n",
       "        vertical-align: top;\n",
       "    }\n",
       "\n",
       "    .dataframe thead th {\n",
       "        text-align: right;\n",
       "    }\n",
       "</style>\n",
       "<table border=\"1\" class=\"dataframe\">\n",
       "  <thead>\n",
       "    <tr style=\"text-align: right;\">\n",
       "      <th></th>\n",
       "      <th>men_height</th>\n",
       "      <th>women_height</th>\n",
       "    </tr>\n",
       "  </thead>\n",
       "  <tbody>\n",
       "    <tr>\n",
       "      <th>0</th>\n",
       "      <td>171.737905</td>\n",
       "      <td>172.694625</td>\n",
       "    </tr>\n",
       "    <tr>\n",
       "      <th>1</th>\n",
       "      <td>182.036446</td>\n",
       "      <td>177.832439</td>\n",
       "    </tr>\n",
       "    <tr>\n",
       "      <th>2</th>\n",
       "      <td>178.235589</td>\n",
       "      <td>174.362071</td>\n",
       "    </tr>\n",
       "    <tr>\n",
       "      <th>3</th>\n",
       "      <td>186.081555</td>\n",
       "      <td>164.482477</td>\n",
       "    </tr>\n",
       "    <tr>\n",
       "      <th>4</th>\n",
       "      <td>173.932295</td>\n",
       "      <td>172.053526</td>\n",
       "    </tr>\n",
       "    <tr>\n",
       "      <th>...</th>\n",
       "      <td>...</td>\n",
       "      <td>...</td>\n",
       "    </tr>\n",
       "    <tr>\n",
       "      <th>99995</th>\n",
       "      <td>191.321439</td>\n",
       "      <td>167.205525</td>\n",
       "    </tr>\n",
       "    <tr>\n",
       "      <th>99996</th>\n",
       "      <td>175.320367</td>\n",
       "      <td>171.393037</td>\n",
       "    </tr>\n",
       "    <tr>\n",
       "      <th>99997</th>\n",
       "      <td>180.765431</td>\n",
       "      <td>174.959239</td>\n",
       "    </tr>\n",
       "    <tr>\n",
       "      <th>99998</th>\n",
       "      <td>177.438079</td>\n",
       "      <td>179.806806</td>\n",
       "    </tr>\n",
       "    <tr>\n",
       "      <th>99999</th>\n",
       "      <td>168.124723</td>\n",
       "      <td>169.233462</td>\n",
       "    </tr>\n",
       "  </tbody>\n",
       "</table>\n",
       "<p>100000 rows × 2 columns</p>\n",
       "</div>"
      ],
      "text/plain": [
       "       men_height  women_height\n",
       "0      171.737905    172.694625\n",
       "1      182.036446    177.832439\n",
       "2      178.235589    174.362071\n",
       "3      186.081555    164.482477\n",
       "4      173.932295    172.053526\n",
       "...           ...           ...\n",
       "99995  191.321439    167.205525\n",
       "99996  175.320367    171.393037\n",
       "99997  180.765431    174.959239\n",
       "99998  177.438079    179.806806\n",
       "99999  168.124723    169.233462\n",
       "\n",
       "[100000 rows x 2 columns]"
      ]
     },
     "execution_count": 15,
     "metadata": {},
     "output_type": "execute_result"
    }
   ],
   "source": [
    "# array of random men's heights\n",
    "men_height = np.random.normal(178, 8, size = 100_000)\n",
    "# array of random women's heights\n",
    "women_height = np.random.normal(170, 6, size = 100_000)\n",
    "# dataframe of both heights together\n",
    "heights = pd.DataFrame({'men_height':men_height, 'women_height':women_height})\n",
    "heights"
   ]
  },
  {
   "cell_type": "code",
   "execution_count": 16,
   "id": "d840083f",
   "metadata": {},
   "outputs": [
    {
     "data": {
      "text/plain": [
       "0.21215"
      ]
     },
     "execution_count": 16,
     "metadata": {},
     "output_type": "execute_result"
    }
   ],
   "source": [
    "# probability of random woman being taller than random man\n",
    "(heights.women_height > heights.men_height).mean()"
   ]
  },
  {
   "cell_type": "markdown",
   "id": "ea6d83f4",
   "metadata": {},
   "source": [
    "### Other method:\n"
   ]
  },
  {
   "cell_type": "code",
   "execution_count": 17,
   "id": "15c68a7c",
   "metadata": {},
   "outputs": [],
   "source": [
    "\n",
    "n_sim = 100_000\n",
    "\n",
    "male_height = np.random.normal(178, 8, size = n_sim)\n",
    "\n",
    "female_height = np.random.normal(170, 6, size = n_sim)"
   ]
  },
  {
   "cell_type": "code",
   "execution_count": 18,
   "id": "2a5a52e1",
   "metadata": {},
   "outputs": [
    {
     "data": {
      "text/plain": [
       "0.21422"
      ]
     },
     "execution_count": 18,
     "metadata": {},
     "output_type": "execute_result"
    }
   ],
   "source": [
    "\n",
    "woman_is_taller = (female_height > male_height).mean()\n",
    "woman_is_taller"
   ]
  },
  {
   "cell_type": "markdown",
   "id": "9e29b34c",
   "metadata": {},
   "source": [
    "### 6. a. When installing anaconda on a student's computer, there's a 1 in 250 chance that the download is corrupted and the installation fails. What are the odds that after having 50 students download anaconda, no one has an installation issue? 100 students?"
   ]
  },
  {
   "cell_type": "markdown",
   "id": "ad022b09",
   "metadata": {},
   "source": [
    "### b. What is the probability that we observe an installation issue within the first 150 students that download anaconda?"
   ]
  },
  {
   "cell_type": "markdown",
   "id": "52e72509",
   "metadata": {},
   "source": [
    "### c. How likely is it that 450 students all download anaconda without an issue?"
   ]
  },
  {
   "cell_type": "code",
   "execution_count": 19,
   "id": "0387f51f",
   "metadata": {},
   "outputs": [],
   "source": [
    "fails = np.random.choice(['fails', 'success'], size = (100_000, 50), p = (1/250, 249/250))\n"
   ]
  },
  {
   "cell_type": "code",
   "execution_count": 20,
   "id": "6524f8f0",
   "metadata": {},
   "outputs": [
    {
     "data": {
      "text/plain": [
       "0.81886"
      ]
     },
     "execution_count": 20,
     "metadata": {},
     "output_type": "execute_result"
    }
   ],
   "source": [
    "\n",
    "((fails == 'success').sum(axis=1) == 50).mean() # probability of 50 successes"
   ]
  },
  {
   "cell_type": "code",
   "execution_count": 21,
   "id": "b36fe010",
   "metadata": {},
   "outputs": [
    {
     "data": {
      "text/plain": [
       "0.67199"
      ]
     },
     "execution_count": 21,
     "metadata": {},
     "output_type": "execute_result"
    }
   ],
   "source": [
    "\n",
    "fails = np.random.choice(['fails', 'success'], size = (100_000, 100), p = (1/250, 249/250))\n",
    "((fails == 'success').sum(axis=1) == 100).mean() # probability of 100 successes"
   ]
  },
  {
   "cell_type": "code",
   "execution_count": 22,
   "id": "6fc09ca0",
   "metadata": {},
   "outputs": [
    {
     "data": {
      "text/plain": [
       "0.54633"
      ]
     },
     "execution_count": 22,
     "metadata": {},
     "output_type": "execute_result"
    }
   ],
   "source": [
    "fails = np.random.choice(['fails', 'success'], size = (100_000, 150), p = (1/250, 249/250))\n",
    "((fails == 'success').sum(axis=1) == 150).mean() # probability of 150 successes"
   ]
  },
  {
   "cell_type": "code",
   "execution_count": 23,
   "id": "19068de9",
   "metadata": {},
   "outputs": [
    {
     "data": {
      "text/plain": [
       "0.16421"
      ]
     },
     "execution_count": 23,
     "metadata": {},
     "output_type": "execute_result"
    }
   ],
   "source": [
    "fails = np.random.choice(['fails', 'success'], size = (100_000, 450), p = (1/250, 249/250))\n",
    "((fails == 'success').sum(axis=1) == 450).mean() # probability of 450 successes"
   ]
  },
  {
   "cell_type": "markdown",
   "id": "4f057974",
   "metadata": {},
   "source": [
    "### Other method"
   ]
  },
  {
   "cell_type": "code",
   "execution_count": 25,
   "id": "c9113da8",
   "metadata": {},
   "outputs": [
    {
     "data": {
      "text/plain": [
       "array([[0.79581789, 0.63920736, 0.76567093, ..., 0.88635157, 0.94313941,\n",
       "        0.70661834],\n",
       "       [0.66172972, 0.53539711, 0.3628674 , ..., 0.36413671, 0.88346443,\n",
       "        0.21192845],\n",
       "       [0.36320581, 0.06586357, 0.26575863, ..., 0.8607764 , 0.2466266 ,\n",
       "        0.95878588],\n",
       "       ...,\n",
       "       [0.41959457, 0.03843095, 0.7721694 , ..., 0.97790354, 0.68634405,\n",
       "        0.92561837],\n",
       "       [0.25414904, 0.08410688, 0.58484466, ..., 0.52594172, 0.66531003,\n",
       "        0.6649916 ],\n",
       "       [0.8694482 , 0.87853533, 0.3136519 , ..., 0.443837  , 0.50296898,\n",
       "        0.19640734]])"
      ]
     },
     "execution_count": 25,
     "metadata": {},
     "output_type": "execute_result"
    }
   ],
   "source": [
    "# corruption chance\n",
    "corrupted_dl_chance = 1/250\n",
    "# students in class\n",
    "n_students = ncols = 50\n",
    "# class sims\n",
    "n_class_dl_sim = nrows = 10**6\n",
    "\n",
    "# array of sims\n",
    "dl_sim = np.random.random((nrows,ncols))\n",
    "dl_sim"
   ]
  },
  {
   "cell_type": "code",
   "execution_count": 26,
   "id": "09b48f02",
   "metadata": {},
   "outputs": [
    {
     "data": {
      "text/plain": [
       "0.81871"
      ]
     },
     "execution_count": 26,
     "metadata": {},
     "output_type": "execute_result"
    }
   ],
   "source": [
    "# array of booleans where corruption occurs\n",
    "dl_sim_corrupted = dl_sim < corrupted_dl_chance\n",
    "# mean where no corruption occurs\n",
    "(dl_sim_corrupted.sum(axis = 1) == 0).mean()"
   ]
  },
  {
   "cell_type": "code",
   "execution_count": 27,
   "id": "18e7a8a5",
   "metadata": {},
   "outputs": [
    {
     "data": {
      "text/plain": [
       "0.818824"
      ]
     },
     "execution_count": 27,
     "metadata": {},
     "output_type": "execute_result"
    }
   ],
   "source": [
    "# Test with 100 students\n",
    "n_students = nolss = 100\n",
    "dl_sim = np.random.random((nrows,ncols))\n",
    "dl_sim_corrupted = dl_sim < corrupted_dl_chance\n",
    "(dl_sim_corrupted.sum(axis = 1) == 0).mean()"
   ]
  },
  {
   "cell_type": "code",
   "execution_count": 28,
   "id": "7082986b",
   "metadata": {},
   "outputs": [
    {
     "data": {
      "text/plain": [
       "0.181637"
      ]
     },
     "execution_count": 28,
     "metadata": {},
     "output_type": "execute_result"
    }
   ],
   "source": [
    "n_students = 150 # Probability of first 100 students\n",
    "dl_sim = np.random.random((nrows,ncols))\n",
    "dl_sim_corrupted = dl_sim < corrupted_dl_chance\n",
    "(dl_sim_corrupted.sum(axis = 1) >= 1).mean()"
   ]
  },
  {
   "cell_type": "code",
   "execution_count": 29,
   "id": "6776e3ef",
   "metadata": {},
   "outputs": [
    {
     "data": {
      "text/plain": [
       "0.817891"
      ]
     },
     "execution_count": 29,
     "metadata": {},
     "output_type": "execute_result"
    }
   ],
   "source": [
    "n_students = 450 # 450 students download without an issue\n",
    "dl_sim = np.random.random((nrows,ncols))\n",
    "dl_sim_corrupted = dl_sim < corrupted_dl_chance\n",
    "(dl_sim_corrupted.sum(axis = 1) == 0).mean()"
   ]
  },
  {
   "cell_type": "markdown",
   "id": "c9a062b5",
   "metadata": {},
   "source": [
    "### 7. a. There's a 70% chance on any given day that there will be at least one food truck at Travis Park. However, you haven't seen a food truck there in 3 days. How unlikely is this?"
   ]
  },
  {
   "cell_type": "code",
   "execution_count": 30,
   "id": "83e4dc04",
   "metadata": {},
   "outputs": [
    {
     "data": {
      "text/plain": [
       "0.02746"
      ]
     },
     "execution_count": 30,
     "metadata": {},
     "output_type": "execute_result"
    }
   ],
   "source": [
    "trucks= np.random.choice(['seen', 'no_seen'], size = (100_000,3), p = ([0.7, 0.3]))\n",
    "((trucks == 'no_seen').sum(axis = 1) == 3).mean()"
   ]
  },
  {
   "cell_type": "markdown",
   "id": "90e66ba8",
   "metadata": {},
   "source": [
    "### b. How likely is it that a food truck will show up sometime this week?"
   ]
  },
  {
   "cell_type": "code",
   "execution_count": 31,
   "id": "88e6b404",
   "metadata": {},
   "outputs": [
    {
     "data": {
      "text/plain": [
       "0.97314"
      ]
     },
     "execution_count": 31,
     "metadata": {},
     "output_type": "execute_result"
    }
   ],
   "source": [
    "trucks= np.random.choice(['seen', 'no_seen'], size = (100_000,3), p = ([0.7, 0.3]))\n",
    "((trucks == 'seen').sum(axis = 1) >= 1).mean()"
   ]
  },
  {
   "cell_type": "markdown",
   "id": "44d00b3b",
   "metadata": {},
   "source": [
    "### Other method"
   ]
  },
  {
   "cell_type": "code",
   "execution_count": 34,
   "id": "157dca6f",
   "metadata": {},
   "outputs": [],
   "source": [
    "# Chance of food truck arriving\n",
    "gut_truck_chance = 0.7\n",
    "# Days tested\n",
    "days = ncols = 3\n",
    "# Total simulations\n",
    "n_truck_sim = nrows = 10**6\n",
    "\n",
    "truck_sim = np.random.random((nrows,ncols))"
   ]
  },
  {
   "cell_type": "code",
   "execution_count": 35,
   "id": "6c577c8f",
   "metadata": {},
   "outputs": [
    {
     "data": {
      "text/html": [
       "<div>\n",
       "<style scoped>\n",
       "    .dataframe tbody tr th:only-of-type {\n",
       "        vertical-align: middle;\n",
       "    }\n",
       "\n",
       "    .dataframe tbody tr th {\n",
       "        vertical-align: top;\n",
       "    }\n",
       "\n",
       "    .dataframe thead th {\n",
       "        text-align: right;\n",
       "    }\n",
       "</style>\n",
       "<table border=\"1\" class=\"dataframe\">\n",
       "  <thead>\n",
       "    <tr style=\"text-align: right;\">\n",
       "      <th></th>\n",
       "      <th>0</th>\n",
       "      <th>1</th>\n",
       "      <th>2</th>\n",
       "    </tr>\n",
       "  </thead>\n",
       "  <tbody>\n",
       "    <tr>\n",
       "      <th>0</th>\n",
       "      <td>False</td>\n",
       "      <td>False</td>\n",
       "      <td>False</td>\n",
       "    </tr>\n",
       "    <tr>\n",
       "      <th>1</th>\n",
       "      <td>False</td>\n",
       "      <td>False</td>\n",
       "      <td>False</td>\n",
       "    </tr>\n",
       "    <tr>\n",
       "      <th>2</th>\n",
       "      <td>False</td>\n",
       "      <td>False</td>\n",
       "      <td>False</td>\n",
       "    </tr>\n",
       "    <tr>\n",
       "      <th>3</th>\n",
       "      <td>False</td>\n",
       "      <td>False</td>\n",
       "      <td>False</td>\n",
       "    </tr>\n",
       "    <tr>\n",
       "      <th>4</th>\n",
       "      <td>False</td>\n",
       "      <td>False</td>\n",
       "      <td>False</td>\n",
       "    </tr>\n",
       "    <tr>\n",
       "      <th>...</th>\n",
       "      <td>...</td>\n",
       "      <td>...</td>\n",
       "      <td>...</td>\n",
       "    </tr>\n",
       "    <tr>\n",
       "      <th>999995</th>\n",
       "      <td>True</td>\n",
       "      <td>False</td>\n",
       "      <td>False</td>\n",
       "    </tr>\n",
       "    <tr>\n",
       "      <th>999996</th>\n",
       "      <td>False</td>\n",
       "      <td>False</td>\n",
       "      <td>True</td>\n",
       "    </tr>\n",
       "    <tr>\n",
       "      <th>999997</th>\n",
       "      <td>False</td>\n",
       "      <td>False</td>\n",
       "      <td>False</td>\n",
       "    </tr>\n",
       "    <tr>\n",
       "      <th>999998</th>\n",
       "      <td>False</td>\n",
       "      <td>False</td>\n",
       "      <td>True</td>\n",
       "    </tr>\n",
       "    <tr>\n",
       "      <th>999999</th>\n",
       "      <td>False</td>\n",
       "      <td>True</td>\n",
       "      <td>False</td>\n",
       "    </tr>\n",
       "  </tbody>\n",
       "</table>\n",
       "<p>1000000 rows × 3 columns</p>\n",
       "</div>"
      ],
      "text/plain": [
       "            0      1      2\n",
       "0       False  False  False\n",
       "1       False  False  False\n",
       "2       False  False  False\n",
       "3       False  False  False\n",
       "4       False  False  False\n",
       "...       ...    ...    ...\n",
       "999995   True  False  False\n",
       "999996  False  False   True\n",
       "999997  False  False  False\n",
       "999998  False  False   True\n",
       "999999  False   True  False\n",
       "\n",
       "[1000000 rows x 3 columns]"
      ]
     },
     "execution_count": 35,
     "metadata": {},
     "output_type": "execute_result"
    }
   ],
   "source": [
    "# create boolean array\n",
    "truck_arrives = truck_sim >= gut_truck_chance\n",
    "pd.DataFrame(truck_arrives)"
   ]
  },
  {
   "cell_type": "code",
   "execution_count": 36,
   "id": "2b0fb2c1",
   "metadata": {},
   "outputs": [
    {
     "data": {
      "text/plain": [
       "0.343213"
      ]
     },
     "execution_count": 36,
     "metadata": {},
     "output_type": "execute_result"
    }
   ],
   "source": [
    "# find probability of a truck not showing up all 3 days\n",
    "(truck_arrives.sum(axis=1) == 0).mean()"
   ]
  },
  {
   "cell_type": "code",
   "execution_count": null,
   "id": "cd623100",
   "metadata": {},
   "outputs": [],
   "source": [
    "# How likely is it that a food truck will show up sometime this week?\n"
   ]
  },
  {
   "cell_type": "code",
   "execution_count": 37,
   "id": "e65bdc7e",
   "metadata": {},
   "outputs": [
    {
     "data": {
      "text/plain": [
       "0.91756"
      ]
     },
     "execution_count": 37,
     "metadata": {},
     "output_type": "execute_result"
    }
   ],
   "source": [
    "# change 3 days to 7 days\n",
    "days = ncols = 7\n",
    "\n",
    "# copy code\n",
    "n_truck_sim = nrows = 10**6\n",
    "truck_sim = np.random.random((nrows,ncols))\n",
    "truck_arrives = truck_sim >= gut_truck_chance\n",
    "# probability that a truck will arive at least once in a week\n",
    "(truck_arrives.sum(axis = 1) >= 1).mean()"
   ]
  },
  {
   "cell_type": "code",
   "execution_count": 38,
   "id": "7437fe2f",
   "metadata": {},
   "outputs": [
    {
     "data": {
      "text/plain": [
       "0.76018"
      ]
     },
     "execution_count": 38,
     "metadata": {},
     "output_type": "execute_result"
    }
   ],
   "source": [
    "# remaining days of week test\n",
    "days = ncols = 4\n",
    "\n",
    "# copy code\n",
    "n_truck_sim = nrows = 10**6\n",
    "truck_sim = np.random.random((nrows,ncols))\n",
    "truck_arrives = truck_sim >= gut_truck_chance\n",
    "# probability that a truck will arive at least once in a week\n",
    "(truck_arrives.sum(axis = 1) >= 1).mean()"
   ]
  },
  {
   "cell_type": "markdown",
   "id": "11b5cfec",
   "metadata": {},
   "source": [
    "### 8. If 23 people are in the same room, what are the odds that two of them share a birthday? What if it's 20 people? 40?"
   ]
  },
  {
   "cell_type": "code",
   "execution_count": 39,
   "id": "b53db4f4",
   "metadata": {},
   "outputs": [
    {
     "data": {
      "text/plain": [
       "0.061055"
      ]
     },
     "execution_count": 39,
     "metadata": {},
     "output_type": "execute_result"
    }
   ],
   "source": [
    "day_chance = 1/365\n",
    "people_in_room = ncols = 23\n",
    "n_birthday_sim = nrows = 10**6\n",
    "\n",
    "# birthday_sim = np.random.choice(range(0,365+1), size = (nrows,ncols))\n",
    "birthday_sim = np.random.random((nrows,ncols))\n",
    "shared_birthday = birthday_sim < day_chance\n",
    "(shared_birthday.sum(axis = 1) >= 1).mean()"
   ]
  },
  {
   "cell_type": "code",
   "execution_count": 40,
   "id": "91eaf04d",
   "metadata": {},
   "outputs": [
    {
     "data": {
      "text/plain": [
       "0.05392"
      ]
     },
     "execution_count": 40,
     "metadata": {},
     "output_type": "execute_result"
    }
   ],
   "source": [
    "people_in_room = ncols = 20\n",
    "n_birthday_sim = nrows = 10**5\n",
    "\n",
    "birthday_sim = np.random.random((nrows,ncols))\n",
    "shared_birthday = birthday_sim < day_chance\n",
    "(shared_birthday.sum(axis = 1) >= 1).mean()"
   ]
  },
  {
   "cell_type": "code",
   "execution_count": 41,
   "id": "b41c32bc",
   "metadata": {},
   "outputs": [
    {
     "data": {
      "text/plain": [
       "0.1021"
      ]
     },
     "execution_count": 41,
     "metadata": {},
     "output_type": "execute_result"
    }
   ],
   "source": [
    "people_in_room = ncols = 40\n",
    "n_birthday_sim = nrows = 10**5\n",
    "\n",
    "birthday_sim = np.random.random((nrows,ncols))\n",
    "shared_birthday = birthday_sim < day_chance\n",
    "(shared_birthday.sum(axis = 1) >= 1).mean()"
   ]
  }
 ],
 "metadata": {
  "kernelspec": {
   "display_name": "Python 3",
   "language": "python",
   "name": "python3"
  },
  "language_info": {
   "codemirror_mode": {
    "name": "ipython",
    "version": 3
   },
   "file_extension": ".py",
   "mimetype": "text/x-python",
   "name": "python",
   "nbconvert_exporter": "python",
   "pygments_lexer": "ipython3",
   "version": "3.8.8"
  }
 },
 "nbformat": 4,
 "nbformat_minor": 5
}
